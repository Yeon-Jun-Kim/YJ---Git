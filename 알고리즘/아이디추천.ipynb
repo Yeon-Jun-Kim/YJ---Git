{
 "cells": [
  {
   "cell_type": "code",
   "execution_count": 25,
   "id": "42e4a536",
   "metadata": {},
   "outputs": [
    {
     "data": {
      "text/plain": [
       "'bat.y.abcdefghi'"
      ]
     },
     "execution_count": 25,
     "metadata": {},
     "output_type": "execute_result"
    }
   ],
   "source": [
    "def solution(new_id):\n",
    "    new_id = new_id.lower()\n",
    "    answer = []\n",
    "    for i in new_id:\n",
    "        if i.isalpha() == False and i.isdigit() == False and i != '-' and i != '_' and i != '.':\n",
    "            new_id = new_id.replace(i,\"\")\n",
    "    for i in new_id:\n",
    "        if answer == []:\n",
    "            answer.append(i)\n",
    "        else:\n",
    "            prevnumber = answer[-1]\n",
    "            if prevnumber == '.' and i == '.':\n",
    "                pass\n",
    "            else:\n",
    "                answer.append(i)\n",
    "    \n",
    "    if answer[0] == '.':\n",
    "        del answer[0]\n",
    "    if answer != []:\n",
    "        if answer[-1] == '.':\n",
    "            del answer[-1]\n",
    "    answer = (\"\").join(answer)\n",
    "    \n",
    "    if answer == '':\n",
    "        answer = 'a'\n",
    "    if len(answer) >= 16:\n",
    "        answer = answer[0:15]\n",
    "        answer = list(answer)\n",
    "        if answer[-1] == '.':\n",
    "            del answer[-1]\n",
    "        answer = (\"\").join(answer)\n",
    "        \n",
    "    if len(answer) <= 2:\n",
    "        while len(answer) < 3:\n",
    "            answer = answer + answer[-1]\n",
    "    \n",
    "            \n",
    "    \n",
    "    return answer\n",
    "solution(\"...!@BaT#*..y.abcdefghijklm\")"
   ]
  },
  {
   "cell_type": "code",
   "execution_count": null,
   "id": "240fc299",
   "metadata": {},
   "outputs": [],
   "source": []
  }
 ],
 "metadata": {
  "kernelspec": {
   "display_name": "Python 3 (ipykernel)",
   "language": "python",
   "name": "python3"
  },
  "language_info": {
   "codemirror_mode": {
    "name": "ipython",
    "version": 3
   },
   "file_extension": ".py",
   "mimetype": "text/x-python",
   "name": "python",
   "nbconvert_exporter": "python",
   "pygments_lexer": "ipython3",
   "version": "3.9.7"
  }
 },
 "nbformat": 4,
 "nbformat_minor": 5
}
