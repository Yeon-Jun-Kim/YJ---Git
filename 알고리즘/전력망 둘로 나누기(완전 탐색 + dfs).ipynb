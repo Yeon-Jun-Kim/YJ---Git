{
 "cells": [
  {
   "cell_type": "code",
   "execution_count": 25,
   "id": "6ad34f2d",
   "metadata": {},
   "outputs": [
    {
     "data": {
      "text/plain": [
       "1"
      ]
     },
     "execution_count": 25,
     "metadata": {},
     "output_type": "execute_result"
    }
   ],
   "source": [
    "import copy\n",
    "def solution(n, wires):\n",
    "    stack = []\n",
    "    answer = []\n",
    "    answer_2 = []\n",
    "    dic = {}\n",
    "    for i in range(1,n + 1):\n",
    "        dic[i] = []\n",
    "    for i in wires:\n",
    "        dic[i[0]].append(i[1])\n",
    "        dic[i[1]].append(i[0])\n",
    "    for i in wires:\n",
    "        dic_2  = copy.deepcopy(dic)\n",
    "        dic_2[i[0]].remove(i[1])\n",
    "        dic_2[i[1]].remove(i[0])\n",
    "        stack.append(dic_2)\n",
    "    for i in stack:\n",
    "        visit = []\n",
    "        queue = [1]\n",
    "        while queue:\n",
    "            node = queue.pop()\n",
    "            if node not in visit:\n",
    "                visit.append(node)\n",
    "                queue.extend(i[node])\n",
    "        answer.append(len(visit))\n",
    "    answer = set(answer)\n",
    "    answer = list(answer)\n",
    "    answer.sort()\n",
    "    for i in answer:\n",
    "        answer_2.append(abs(i-(n-i)))\n",
    "    \n",
    "    return min(answer_2)\n",
    "\n",
    "solution(7, [[1, 2], [2, 7], [3, 7], [3, 4], [4, 5], [6, 7]])"
   ]
  },
  {
   "cell_type": "code",
   "execution_count": null,
   "id": "54a03b06",
   "metadata": {},
   "outputs": [],
   "source": []
  }
 ],
 "metadata": {
  "kernelspec": {
   "display_name": "Python 3 (ipykernel)",
   "language": "python",
   "name": "python3"
  },
  "language_info": {
   "codemirror_mode": {
    "name": "ipython",
    "version": 3
   },
   "file_extension": ".py",
   "mimetype": "text/x-python",
   "name": "python",
   "nbconvert_exporter": "python",
   "pygments_lexer": "ipython3",
   "version": "3.9.7"
  }
 },
 "nbformat": 4,
 "nbformat_minor": 5
}
