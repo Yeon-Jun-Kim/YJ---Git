{
 "cells": [
  {
   "cell_type": "code",
   "execution_count": 5,
   "id": "190ada2e",
   "metadata": {},
   "outputs": [
    {
     "data": {
      "text/plain": [
       "7"
      ]
     },
     "execution_count": 5,
     "metadata": {},
     "output_type": "execute_result"
    }
   ],
   "source": [
    "from collections import deque\n",
    "def solution(queue1, queue2):\n",
    "    count = 0\n",
    "    queue1 = deque(queue1)\n",
    "    queue2 = deque(queue2)\n",
    "    sum1 = sum(queue1)\n",
    "    sum2 = sum(queue2)\n",
    "    while sum1 != sum2:\n",
    "        count += 1\n",
    "        if sum1 > sum2:\n",
    "            temp = queue1.popleft()\n",
    "            queue2.append(temp)\n",
    "            sum2 += temp\n",
    "            sum1 -= temp\n",
    "        elif sum1 < sum2:\n",
    "            temp = queue2.popleft()\n",
    "            queue1.append(temp)\n",
    "            sum1 += temp\n",
    "            sum2 -= temp\n",
    "        \n",
    "    return count\n",
    "    \n",
    "    \n",
    "\n",
    "solution([1, 2, 1, 2],[1, 10, 1, 2])"
   ]
  },
  {
   "cell_type": "code",
   "execution_count": null,
   "id": "480d6115",
   "metadata": {},
   "outputs": [],
   "source": []
  }
 ],
 "metadata": {
  "kernelspec": {
   "display_name": "Python 3 (ipykernel)",
   "language": "python",
   "name": "python3"
  },
  "language_info": {
   "codemirror_mode": {
    "name": "ipython",
    "version": 3
   },
   "file_extension": ".py",
   "mimetype": "text/x-python",
   "name": "python",
   "nbconvert_exporter": "python",
   "pygments_lexer": "ipython3",
   "version": "3.9.7"
  }
 },
 "nbformat": 4,
 "nbformat_minor": 5
}
