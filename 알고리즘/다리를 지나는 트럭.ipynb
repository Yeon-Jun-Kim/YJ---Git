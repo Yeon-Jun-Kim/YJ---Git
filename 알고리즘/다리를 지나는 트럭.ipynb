{
 "cells": [
  {
   "cell_type": "code",
   "execution_count": 39,
   "id": "87346f01",
   "metadata": {},
   "outputs": [
    {
     "name": "stdout",
     "output_type": "stream",
     "text": [
      "deque([7]) deque([0])\n",
      "deque([7]) deque([1])\n",
      "deque([4]) deque([0])\n",
      "deque([5, 4]) deque([0, 1])\n",
      "deque([5]) deque([1])\n",
      "deque([6]) deque([0])\n",
      "deque([6]) deque([1])\n"
     ]
    },
    {
     "data": {
      "text/plain": [
       "8"
      ]
     },
     "execution_count": 39,
     "metadata": {},
     "output_type": "execute_result"
    }
   ],
   "source": [
    "from collections import deque\n",
    "\n",
    "def solution(bridge_length, weight, truck_weights):\n",
    "    c = 0\n",
    "    stack = deque()\n",
    "    time = deque()\n",
    "    truck_weights = deque(truck_weights)\n",
    "    stack.appendleft(truck_weights.popleft())\n",
    "    time.appendleft(0)\n",
    "    while stack:\n",
    "        print(stack,time)\n",
    "        \n",
    "        for i in range(len(time)):\n",
    "            time[i] += 1\n",
    "            if time[i] >= bridge_length:\n",
    "                time.pop()\n",
    "                stack.pop()\n",
    "        if len(truck_weights) != 0:\n",
    "            if sum(stack) + truck_weights[0] <= weight:\n",
    "                stack.appendleft(truck_weights.popleft())\n",
    "                time.appendleft(0)\n",
    "                \n",
    "        c += 1\n",
    "    \n",
    "     \n",
    "        \n",
    "    return c +1\n",
    "\n",
    "solution(2, 10, [7, 4, 5, 6])"
   ]
  },
  {
   "cell_type": "code",
   "execution_count": null,
   "id": "3bb3e63f",
   "metadata": {},
   "outputs": [],
   "source": []
  }
 ],
 "metadata": {
  "kernelspec": {
   "display_name": "Python 3 (ipykernel)",
   "language": "python",
   "name": "python3"
  },
  "language_info": {
   "codemirror_mode": {
    "name": "ipython",
    "version": 3
   },
   "file_extension": ".py",
   "mimetype": "text/x-python",
   "name": "python",
   "nbconvert_exporter": "python",
   "pygments_lexer": "ipython3",
   "version": "3.9.7"
  }
 },
 "nbformat": 4,
 "nbformat_minor": 5
}
