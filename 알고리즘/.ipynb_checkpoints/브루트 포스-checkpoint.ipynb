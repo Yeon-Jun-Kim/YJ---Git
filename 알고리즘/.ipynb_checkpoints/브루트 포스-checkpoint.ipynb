{
 "cells": [
  {
   "cell_type": "markdown",
   "id": "97eeb759",
   "metadata": {},
   "source": [
    " https://programmers.co.kr/learn/courses/30/lessons/42842"
   ]
  },
  {
   "cell_type": "code",
   "execution_count": 12,
   "id": "8325f08d",
   "metadata": {},
   "outputs": [
    {
     "name": "stdout",
     "output_type": "stream",
     "text": [
      "[('name', 'pey'), ('phone', '0119993323'), ('birth', '1118')]\n"
     ]
    }
   ],
   "source": [
    "from collections import deque\n",
    "def solution(brown, yellow):\n",
    "    total = brown + yellow\n",
    "    stack = []\n",
    "    for i in range(1,total+1):\n",
    "        if total % i == 0:\n",
    "            stack.append(i)\n",
    "\n",
    "    stack_2 = []\n",
    "    while stack:\n",
    "        if len(stack) == 1:\n",
    "            a= stack.pop()\n",
    "            stack_2.append((a,a))\n",
    "            break\n",
    "            \n",
    "        a = stack.pop(0)\n",
    "        b = stack.pop()\n",
    "        stack_2.append((a,b))\n",
    "    \n",
    "    for i in stack_2:\n",
    "        if (2 * sum(i))-4 == brown:\n",
    "            answer = list(i)\n",
    "    answer.sort(reverse = True)\n",
    "    return answer"
   ]
  }
 ],
 "metadata": {
  "kernelspec": {
   "display_name": "Python 3 (ipykernel)",
   "language": "python",
   "name": "python3"
  },
  "language_info": {
   "codemirror_mode": {
    "name": "ipython",
    "version": 3
   },
   "file_extension": ".py",
   "mimetype": "text/x-python",
   "name": "python",
   "nbconvert_exporter": "python",
   "pygments_lexer": "ipython3",
   "version": "3.9.7"
  }
 },
 "nbformat": 4,
 "nbformat_minor": 5
}
