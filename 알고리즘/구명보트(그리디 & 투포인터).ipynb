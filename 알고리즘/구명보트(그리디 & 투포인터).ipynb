{
 "cells": [
  {
   "cell_type": "code",
   "execution_count": 12,
   "id": "76ef6bbb",
   "metadata": {},
   "outputs": [
    {
     "data": {
      "text/plain": [
       "3"
      ]
     },
     "execution_count": 12,
     "metadata": {},
     "output_type": "execute_result"
    }
   ],
   "source": [
    "def solution(people, limit):\n",
    "    c = 0\n",
    "    idx = 0\n",
    "    idx2 = len(people) -1\n",
    "    people.sort()\n",
    "    while idx <= idx2:\n",
    "        if people[idx] + people[idx2] <= limit:\n",
    "            c += 1\n",
    "            idx += 1\n",
    "            idx2 -= 1\n",
    "        else:\n",
    "            c+=1\n",
    "            idx2 -= 1\n",
    "            \n",
    "    \n",
    "    return c\n",
    "    \n",
    "    \n",
    "    \n",
    "solution([70, 50, 80, 50],100)"
   ]
  },
  {
   "cell_type": "code",
   "execution_count": null,
   "id": "ee2b51f8",
   "metadata": {},
   "outputs": [],
   "source": []
  }
 ],
 "metadata": {
  "kernelspec": {
   "display_name": "Python 3 (ipykernel)",
   "language": "python",
   "name": "python3"
  },
  "language_info": {
   "codemirror_mode": {
    "name": "ipython",
    "version": 3
   },
   "file_extension": ".py",
   "mimetype": "text/x-python",
   "name": "python",
   "nbconvert_exporter": "python",
   "pygments_lexer": "ipython3",
   "version": "3.9.7"
  }
 },
 "nbformat": 4,
 "nbformat_minor": 5
}
