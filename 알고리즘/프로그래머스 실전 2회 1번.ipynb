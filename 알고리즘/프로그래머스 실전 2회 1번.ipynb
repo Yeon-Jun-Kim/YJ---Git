{
 "cells": [
  {
   "cell_type": "code",
   "execution_count": 7,
   "id": "ad39ad34",
   "metadata": {},
   "outputs": [
    {
     "data": {
      "text/plain": [
       "5"
      ]
     },
     "execution_count": 7,
     "metadata": {},
     "output_type": "execute_result"
    }
   ],
   "source": [
    "import itertools\n",
    "def solution(number):\n",
    "    answer = itertools.combinations(number, 3)\n",
    "    answer = list(answer)\n",
    "    for i in range(len(answer)):\n",
    "        answer[i] = sum(answer[i])\n",
    "    return answer.count(0)\n",
    "solution([-3, -2, -1, 0, 1, 2, 3])"
   ]
  },
  {
   "cell_type": "code",
   "execution_count": null,
   "id": "a913fc89",
   "metadata": {},
   "outputs": [],
   "source": []
  }
 ],
 "metadata": {
  "kernelspec": {
   "display_name": "Python 3 (ipykernel)",
   "language": "python",
   "name": "python3"
  },
  "language_info": {
   "codemirror_mode": {
    "name": "ipython",
    "version": 3
   },
   "file_extension": ".py",
   "mimetype": "text/x-python",
   "name": "python",
   "nbconvert_exporter": "python",
   "pygments_lexer": "ipython3",
   "version": "3.9.7"
  }
 },
 "nbformat": 4,
 "nbformat_minor": 5
}
