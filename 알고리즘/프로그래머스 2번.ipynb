{
 "cells": [
  {
   "cell_type": "code",
   "execution_count": 19,
   "id": "7cb61c95",
   "metadata": {},
   "outputs": [
    {
     "name": "stdout",
     "output_type": "stream",
     "text": [
      "hi\n",
      "hi\n",
      "hi\n"
     ]
    }
   ],
   "source": [
    "def solution(want, number, discount):\n",
    "    dic = {}\n",
    "    count = len(discount)\n",
    "    answer =\n",
    "    for i in range(len(want)):\n",
    "        dic[want[i]] = number[i]\n",
    "    for i in range(count-9):\n",
    "        stack = discount[i:i+10]\n",
    "        tf = True\n",
    "        for j in dic:\n",
    "            if stack.count(j) == dic[j]:\n",
    "                pass\n",
    "            if stack.count(j) != dic[j]:\n",
    "                tf = False\n",
    "                continue\n",
    "            if tf == True and j == want[-1]:\n",
    "               \n",
    "            \n",
    "            \n",
    "    return \n",
    "solution(['banana','apple','rice','pork','pot'],\n",
    "[3,2,2,2,1],\n",
    "['chicken','apple','apple','banana','rice','apple','pork','banana','pork','rice','pot','banana','apple','banana'])"
   ]
  },
  {
   "cell_type": "code",
   "execution_count": null,
   "id": "48f75c85",
   "metadata": {},
   "outputs": [],
   "source": []
  }
 ],
 "metadata": {
  "kernelspec": {
   "display_name": "Python 3 (ipykernel)",
   "language": "python",
   "name": "python3"
  },
  "language_info": {
   "codemirror_mode": {
    "name": "ipython",
    "version": 3
   },
   "file_extension": ".py",
   "mimetype": "text/x-python",
   "name": "python",
   "nbconvert_exporter": "python",
   "pygments_lexer": "ipython3",
   "version": "3.9.7"
  }
 },
 "nbformat": 4,
 "nbformat_minor": 5
}
