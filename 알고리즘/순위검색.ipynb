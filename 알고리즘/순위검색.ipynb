{
 "cells": [
  {
   "cell_type": "code",
   "execution_count": 93,
   "id": "bb6b798e",
   "metadata": {},
   "outputs": [
    {
     "data": {
      "text/plain": [
       "[1, 1, 1, 1, 2, 4]"
      ]
     },
     "execution_count": 93,
     "metadata": {},
     "output_type": "execute_result"
    }
   ],
   "source": [
    "def solution(info, query):\n",
    "    temp = []\n",
    "    dic = {}   \n",
    "    comp = []\n",
    "    answer = []\n",
    "    for i in query:\n",
    "        answer.append(0)\n",
    "        \n",
    "    for i in info:\n",
    "        temp.append( i.split())\n",
    "    for i in range(len(temp)):\n",
    "        dic[i] = temp[i]\n",
    "    \n",
    "    for i in query:\n",
    "        comp.append( i.split('and'))\n",
    "    for i in comp:\n",
    "        for j in range(len(i)):\n",
    "            i[j] = i[j].strip()\n",
    "            if j == 3:\n",
    "                i.extend(i[j].split())\n",
    "                del i[3]\n",
    "    for i in dic:\n",
    "        for j in range(len(comp)):\n",
    "            tf = True\n",
    "            for t in comp[j]:\n",
    "                if t != '-':\n",
    "                    if t != comp[j][4]:\n",
    "                        if t  not in dic[i]:\n",
    "                            tf = False\n",
    "                    if t == comp[j][4] and tf == True:\n",
    "                        if int(t) <= int(dic[i][4]):\n",
    "                            answer[j] += 1\n",
    "                        \n",
    "                        \n",
    "                        \n",
    "        \n",
    "                            \n",
    "                            \n",
    "                        \n",
    "                                 \n",
    "    return answer\n",
    "\n",
    "\n",
    "solution([\"java backend junior pizza 150\",\"python frontend senior chicken 210\",\"python frontend senior chicken 150\",\"cpp backend senior pizza 260\",\"java backend junior chicken 80\",\"python backend senior chicken 50\"],[\"java and backend and junior and pizza 100\",\"python and frontend and senior and chicken 200\",\"cpp and - and senior and pizza 250\",\"- and backend and senior and - 150\",\"- and - and - and chicken 100\",\"- and - and - and - 150\"])"
   ]
  },
  {
   "cell_type": "code",
   "execution_count": null,
   "id": "5d6656d6",
   "metadata": {},
   "outputs": [],
   "source": []
  }
 ],
 "metadata": {
  "kernelspec": {
   "display_name": "Python 3 (ipykernel)",
   "language": "python",
   "name": "python3"
  },
  "language_info": {
   "codemirror_mode": {
    "name": "ipython",
    "version": 3
   },
   "file_extension": ".py",
   "mimetype": "text/x-python",
   "name": "python",
   "nbconvert_exporter": "python",
   "pygments_lexer": "ipython3",
   "version": "3.9.7"
  }
 },
 "nbformat": 4,
 "nbformat_minor": 5
}
