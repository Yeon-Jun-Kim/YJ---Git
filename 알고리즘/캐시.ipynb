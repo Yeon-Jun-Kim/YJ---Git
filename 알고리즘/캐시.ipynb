{
 "cells": [
  {
   "cell_type": "code",
   "execution_count": null,
   "id": "1efad351",
   "metadata": {},
   "outputs": [],
   "source": []
  },
  {
   "cell_type": "code",
   "execution_count": 11,
   "id": "2fd43eb1",
   "metadata": {},
   "outputs": [
    {
     "data": {
      "text/plain": [
       "50"
      ]
     },
     "execution_count": 11,
     "metadata": {},
     "output_type": "execute_result"
    }
   ],
   "source": [
    "def solution(cacheSize, cities):\n",
    "    cash = []\n",
    "    c = 0\n",
    "    answer = 0\n",
    "    for i in cities:\n",
    "        c +=1\n",
    "        i = i.lower()\n",
    "        if i in cash:\n",
    "            answer += 1\n",
    "            cash.append(i)\n",
    "            cash.remove(i)\n",
    "            \n",
    "            \n",
    "        else:\n",
    "            answer += 5\n",
    "            cash.append(i)\n",
    "            \n",
    "\n",
    "        if len(cash) > cacheSize:\n",
    "            del cash[0]\n",
    "        \n",
    "        \n",
    "    return answer\n",
    "\n",
    "solution(3,[\"Jeju\", \"Pangyo\", \"Seoul\", \"NewYork\", \"LA\", \"Jeju\", \"Pangyo\", \"Seoul\", \"NewYork\", \"LA\"])"
   ]
  },
  {
   "cell_type": "code",
   "execution_count": null,
   "id": "4b1f7ed8",
   "metadata": {},
   "outputs": [],
   "source": []
  }
 ],
 "metadata": {
  "kernelspec": {
   "display_name": "Python 3 (ipykernel)",
   "language": "python",
   "name": "python3"
  },
  "language_info": {
   "codemirror_mode": {
    "name": "ipython",
    "version": 3
   },
   "file_extension": ".py",
   "mimetype": "text/x-python",
   "name": "python",
   "nbconvert_exporter": "python",
   "pygments_lexer": "ipython3",
   "version": "3.9.7"
  }
 },
 "nbformat": 4,
 "nbformat_minor": 5
}
