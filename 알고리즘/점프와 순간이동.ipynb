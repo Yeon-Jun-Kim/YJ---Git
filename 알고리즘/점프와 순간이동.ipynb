{
 "cells": [
  {
   "cell_type": "code",
   "execution_count": 20,
   "id": "e91f223b",
   "metadata": {},
   "outputs": [
    {
     "data": {
      "text/plain": [
       "5"
      ]
     },
     "execution_count": 20,
     "metadata": {},
     "output_type": "execute_result"
    }
   ],
   "source": [
    "def solution(n):\n",
    "    c = 1\n",
    "    while n != 1:\n",
    "        if n % 2 == 1:\n",
    "            c += 1\n",
    "        n = n//2\n",
    "\n",
    "        \n",
    "    return c\n",
    "\n",
    "solution(5000)"
   ]
  },
  {
   "cell_type": "code",
   "execution_count": null,
   "id": "fff0ed75",
   "metadata": {},
   "outputs": [],
   "source": []
  }
 ],
 "metadata": {
  "kernelspec": {
   "display_name": "Python 3 (ipykernel)",
   "language": "python",
   "name": "python3"
  },
  "language_info": {
   "codemirror_mode": {
    "name": "ipython",
    "version": 3
   },
   "file_extension": ".py",
   "mimetype": "text/x-python",
   "name": "python",
   "nbconvert_exporter": "python",
   "pygments_lexer": "ipython3",
   "version": "3.9.7"
  }
 },
 "nbformat": 4,
 "nbformat_minor": 5
}
