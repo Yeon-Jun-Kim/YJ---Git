{
 "cells": [
  {
   "cell_type": "code",
   "execution_count": 77,
   "id": "42785034",
   "metadata": {},
   "outputs": [
    {
     "name": "stdout",
     "output_type": "stream",
     "text": [
      "{1: [4, 5, 2, 3], 2: [1, 9], 3: [1], 4: [1], 5: [1, 6], 6: [5, 7, 8], 7: [6], 8: [6], 9: [2, 10], 10: [9]}\n",
      "[1, 4, 5, 2, 3, 6, 9, 7, 8, 10]\n"
     ]
    },
    {
     "data": {
      "text/plain": [
       "[1, 4, 5, 2, 3, 1, 1, 6, 1, 9, 1, 5, 7, 8, 2, 10, 6, 6, 9]"
      ]
     },
     "execution_count": 77,
     "metadata": {},
     "output_type": "execute_result"
    }
   ],
   "source": [
    "def solution(n, lighthouse):\n",
    "    dic = {}\n",
    "    answer = []\n",
    "    for i in range(1,n+1):\n",
    "        dic[i] = []\n",
    "        \n",
    "    for i in lighthouse:\n",
    "        dic[i[0]].append(i[1])\n",
    "        dic[i[1]].append(i[0])\n",
    "    visit = []\n",
    "    stack = [1]\n",
    "    while stack:\n",
    "        node = stack.pop(0)\n",
    "        answer.append(node)\n",
    "        \n",
    "        if node not in visit:\n",
    "            visit.append(node)\n",
    "            stack.extend(dic[node])\n",
    "    print(dic)\n",
    "    print(visit)       \n",
    "    return answer\n",
    "solution(10, [[4, 1], [5, 1], [5, 6], [7, 6], [1, 2], [1, 3], [6, 8], [2, 9], [9, 10]])"
   ]
  },
  {
   "cell_type": "code",
   "execution_count": null,
   "id": "72b25f9b",
   "metadata": {},
   "outputs": [],
   "source": []
  }
 ],
 "metadata": {
  "kernelspec": {
   "display_name": "Python 3 (ipykernel)",
   "language": "python",
   "name": "python3"
  },
  "language_info": {
   "codemirror_mode": {
    "name": "ipython",
    "version": 3
   },
   "file_extension": ".py",
   "mimetype": "text/x-python",
   "name": "python",
   "nbconvert_exporter": "python",
   "pygments_lexer": "ipython3",
   "version": "3.9.7"
  }
 },
 "nbformat": 4,
 "nbformat_minor": 5
}
