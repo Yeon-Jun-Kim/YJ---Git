{
 "cells": [
  {
   "cell_type": "code",
   "execution_count": 4,
   "id": "937f6918",
   "metadata": {},
   "outputs": [
    {
     "data": {
      "text/plain": [
       "12"
      ]
     },
     "execution_count": 4,
     "metadata": {},
     "output_type": "execute_result"
    }
   ],
   "source": [
    "def solution(distance, scope, times):\n",
    "    for i in scope:\n",
    "        i.sort()\n",
    "    idx = 0\n",
    "    for i in range(distance):\n",
    "        idx += 1\n",
    "        for j in range(len(scope)):\n",
    "            if idx in list(range(scope[j][0],scope[j][1]+1)):\n",
    "                su = sum(times[j])\n",
    "                if 0 < idx % su <= times[j][0]:\n",
    "                    return idx\n",
    "                else:\n",
    "                    pass\n",
    "                \n",
    "    return idx\n",
    "solution(12, [[7, 8], [4, 6], [11, 10]], [[2, 2], [2, 4], [3, 3]]\n",
    "\n",
    ")"
   ]
  },
  {
   "cell_type": "code",
   "execution_count": null,
   "id": "23c85228",
   "metadata": {},
   "outputs": [],
   "source": []
  }
 ],
 "metadata": {
  "kernelspec": {
   "display_name": "Python 3 (ipykernel)",
   "language": "python",
   "name": "python3"
  },
  "language_info": {
   "codemirror_mode": {
    "name": "ipython",
    "version": 3
   },
   "file_extension": ".py",
   "mimetype": "text/x-python",
   "name": "python",
   "nbconvert_exporter": "python",
   "pygments_lexer": "ipython3",
   "version": "3.9.7"
  }
 },
 "nbformat": 4,
 "nbformat_minor": 5
}
