{
 "cells": [
  {
   "cell_type": "code",
   "execution_count": 48,
   "id": "0dda3902",
   "metadata": {},
   "outputs": [
    {
     "data": {
      "text/plain": [
       "[1, 2, 9, 3, 10, 8, 4, 5, 6, 7]"
      ]
     },
     "execution_count": 48,
     "metadata": {},
     "output_type": "execute_result"
    }
   ],
   "source": [
    "def solution(n):\n",
    "    answer = []\n",
    "    array = [[0] * n for _ in range(n)]\n",
    "    num = 1\n",
    "    x = -1\n",
    "    y = 0\n",
    "    c = n %3\n",
    "    for i in range(n):\n",
    "        for j in range(i,n):\n",
    "            if  i % 3 == 0:\n",
    "                x += 1\n",
    "            if  i % 3 == 1:\n",
    "                y +=1\n",
    "            if i % 3 ==2:\n",
    "                x -= 1\n",
    "                y -= 1\n",
    "            array[x][y] = num\n",
    "            num += 1\n",
    "    for i in range(len(array)):\n",
    "        while array[i].count(0) != 0:\n",
    "            array[i].remove(0)\n",
    "    for i in array:\n",
    "        answer += i\n",
    "                \n",
    "        \n",
    "    return answer\n",
    "        \n",
    "        \n",
    "solution(4)"
   ]
  },
  {
   "cell_type": "code",
   "execution_count": null,
   "id": "15632594",
   "metadata": {},
   "outputs": [],
   "source": []
  }
 ],
 "metadata": {
  "kernelspec": {
   "display_name": "Python 3 (ipykernel)",
   "language": "python",
   "name": "python3"
  },
  "language_info": {
   "codemirror_mode": {
    "name": "ipython",
    "version": 3
   },
   "file_extension": ".py",
   "mimetype": "text/x-python",
   "name": "python",
   "nbconvert_exporter": "python",
   "pygments_lexer": "ipython3",
   "version": "3.9.7"
  }
 },
 "nbformat": 4,
 "nbformat_minor": 5
}
