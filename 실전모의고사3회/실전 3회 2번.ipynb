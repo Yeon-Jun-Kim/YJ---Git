{
 "cells": [
  {
   "cell_type": "code",
   "execution_count": 9,
   "id": "8094c5b5",
   "metadata": {},
   "outputs": [
    {
     "data": {
      "text/plain": [
       "2"
      ]
     },
     "execution_count": 9,
     "metadata": {},
     "output_type": "execute_result"
    }
   ],
   "source": [
    "def solution(ingredient):\n",
    "    answer = ''\n",
    "    c = 0\n",
    "    for i in ingredient:\n",
    "        answer += str(i)\n",
    "        if '1231' in answer:\n",
    "            \n",
    "            answer = answer.replace('1231','')\n",
    "            c += 1\n",
    "    return c\n",
    "\n",
    "solution([2, 1, 1, 2, 3, 1, 2, 3, 1])"
   ]
  },
  {
   "cell_type": "code",
   "execution_count": null,
   "id": "b7166118",
   "metadata": {},
   "outputs": [],
   "source": []
  }
 ],
 "metadata": {
  "kernelspec": {
   "display_name": "Python 3 (ipykernel)",
   "language": "python",
   "name": "python3"
  },
  "language_info": {
   "codemirror_mode": {
    "name": "ipython",
    "version": 3
   },
   "file_extension": ".py",
   "mimetype": "text/x-python",
   "name": "python",
   "nbconvert_exporter": "python",
   "pygments_lexer": "ipython3",
   "version": "3.9.7"
  }
 },
 "nbformat": 4,
 "nbformat_minor": 5
}
