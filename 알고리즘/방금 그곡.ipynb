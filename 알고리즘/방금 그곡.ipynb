{
 "cells": [
  {
   "cell_type": "code",
   "execution_count": 5,
   "id": "2535e26c",
   "metadata": {},
   "outputs": [
    {
     "name": "stdout",
     "output_type": "stream",
     "text": [
      "{'HELLO': [30], 'WORLD': [5]}\n"
     ]
    },
    {
     "data": {
      "text/plain": [
       "{'HELLO': 'CDEFGABCDEFGABCDEFGABCDEFGABCD', 'WORLD': 'ABCDE'}"
      ]
     },
     "execution_count": 5,
     "metadata": {},
     "output_type": "execute_result"
    }
   ],
   "source": [
    "def solution(m, musicinfos):\n",
    "    stack = []\n",
    "    dic = {}\n",
    "    answer = []\n",
    "    while 'C#' in m:\n",
    "        m = m.replace('C#','c')\n",
    "    while 'D#' in m:\n",
    "        m = m.replace('D#','d')\n",
    "    while 'F#' in m:\n",
    "        m = m.replace('F#','f')\n",
    "    while 'G#' in m:\n",
    "        m = m.replace('G#','g')\n",
    "    while 'A#' in m:\n",
    "        m = m.replace('A#','a')\n",
    "    \n",
    "    for i in musicinfos:\n",
    "        stack.append(i.split(','))\n",
    "    for i in stack:\n",
    "        dic[i[2]] = []\n",
    "    for i in range(len(stack)):\n",
    "        while 'C#' in stack[i][3]:\n",
    "            stack[i][3] = stack[i][3].replace('C#','c')\n",
    "        while 'D#' in stack[i][3]:\n",
    "            stack[i][3] = stack[i][3].replace('D#','d')\n",
    "        while 'F#' in stack[i][3]:\n",
    "            stack[i][3] = stack[i][3].replace('F#','f')\n",
    "        while 'G#' in stack[i][3]:\n",
    "            stack[i][3] = stack[i][3].replace('G#','g')\n",
    "        while 'A#' in stack[i][3]:\n",
    "            stack[i][3] = stack[i][3].replace('A#','a')\n",
    "        \n",
    "    for i in stack:\n",
    "        dic[i[2]].append(int(i[1][0:2])-int(i[0][0:2]))\n",
    "        dic[i[2]].append(int(i[1][3:5])-int(i[0][3:5]))\n",
    "    \n",
    "  \n",
    "    for i in dic:\n",
    "        dic[i] = [dic[i][0] * 60 + dic[i][1]]\n",
    "\n",
    "    for i in stack:\n",
    "        dic[i[2]].append(dic[i[2]][0] // len(i[3]))\n",
    "        dic[i[2]].append(dic[i[2]][0] % len(i[3]))\n",
    "    for i in stack:\n",
    "        dic[i[2]]= (dic[i[2]][1]*i[3] + i[3][0:dic[i[2]][2]])\n",
    "    for i in dic:\n",
    "        if m in dic[i]:\n",
    "            answer.append([i,dic[i]])\n",
    "\n",
    "    if answer == []:\n",
    "        return None\n",
    "    answer.sort(key = lambda x : len(x[1]))\n",
    "    \n",
    "    \n",
    "    \n",
    "        \n",
    "        \n",
    "    \n",
    "    \n",
    "    return dic\n",
    "\n",
    "\n",
    "solution(\"ABCDEFG\", [\"13:50,14:20,HELLO,CDEFGAB\", \"13:00,13:05,WORLD,ABCDEF\"])"
   ]
  },
  {
   "cell_type": "code",
   "execution_count": 103,
   "id": "cf18ef67",
   "metadata": {},
   "outputs": [
    {
     "name": "stdout",
     "output_type": "stream",
     "text": [
      "[['c', 'cde'], ['e', 'cde'], ['a', 'bc']]\n"
     ]
    }
   ],
   "source": [
    "a = [['a','bc'],['c','cde'],['e','cde']]\n",
    "a.sort(key = lambda x : len(x[1]),reverse=True)\n",
    "print(a)"
   ]
  },
  {
   "cell_type": "code",
   "execution_count": null,
   "id": "de412093",
   "metadata": {},
   "outputs": [],
   "source": []
  }
 ],
 "metadata": {
  "kernelspec": {
   "display_name": "Python 3 (ipykernel)",
   "language": "python",
   "name": "python3"
  },
  "language_info": {
   "codemirror_mode": {
    "name": "ipython",
    "version": 3
   },
   "file_extension": ".py",
   "mimetype": "text/x-python",
   "name": "python",
   "nbconvert_exporter": "python",
   "pygments_lexer": "ipython3",
   "version": "3.9.7"
  }
 },
 "nbformat": 4,
 "nbformat_minor": 5
}
