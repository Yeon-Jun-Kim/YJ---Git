{
 "cells": [
  {
   "cell_type": "markdown",
   "id": "19d91875",
   "metadata": {},
   "source": [
    "https://programmers.co.kr/learn/courses/30/lessons/92334?language=python3#_=_"
   ]
  },
  {
   "cell_type": "code",
   "execution_count": 87,
   "id": "fe3cfb4b",
   "metadata": {},
   "outputs": [
    {
     "data": {
      "text/plain": [
       "[2, 1, 1, 0]"
      ]
     },
     "execution_count": 87,
     "metadata": {},
     "output_type": "execute_result"
    }
   ],
   "source": [
    "def solution(id_list,report,k):\n",
    "    report_2 = []\n",
    "    report_3 = {}\n",
    "    get_count = {}\n",
    "    get_count_2 = {}\n",
    "    signal_count = {}\n",
    "    n = 0\n",
    "    for i in report:\n",
    "        report_2.append(i.split())\n",
    "    for i in id_list:\n",
    "        get_count[i] = set()\n",
    "    for i in id_list:\n",
    "        signal_count[i] = 0\n",
    "    for i in report_2:\n",
    "        get_count[i[1]].add(i[0])\n",
    "\n",
    "    for i in id_list:\n",
    "        get_count_2[i] = len(get_count[i])\n",
    "    for i in id_list:\n",
    "        if get_count_2[i] >= k:\n",
    "            for d in list(get_count[i]):\n",
    "                signal_count[d]=signal_count[d] + 1\n",
    "    output=[]\n",
    "    for i in id_list:\n",
    "        output.append(signal_count[i])\n",
    "    return output"
   ]
  },
  {
   "cell_type": "code",
   "execution_count": null,
   "id": "70668e55",
   "metadata": {},
   "outputs": [],
   "source": []
  },
  {
   "cell_type": "code",
   "execution_count": null,
   "id": "9c7d3db2",
   "metadata": {},
   "outputs": [],
   "source": []
  },
  {
   "cell_type": "code",
   "execution_count": null,
   "id": "47213e9a",
   "metadata": {},
   "outputs": [],
   "source": []
  }
 ],
 "metadata": {
  "kernelspec": {
   "display_name": "Python 3 (ipykernel)",
   "language": "python",
   "name": "python3"
  },
  "language_info": {
   "codemirror_mode": {
    "name": "ipython",
    "version": 3
   },
   "file_extension": ".py",
   "mimetype": "text/x-python",
   "name": "python",
   "nbconvert_exporter": "python",
   "pygments_lexer": "ipython3",
   "version": "3.9.7"
  }
 },
 "nbformat": 4,
 "nbformat_minor": 5
}
