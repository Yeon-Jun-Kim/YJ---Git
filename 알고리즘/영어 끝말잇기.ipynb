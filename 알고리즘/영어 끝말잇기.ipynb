{
 "cells": [
  {
   "cell_type": "code",
   "execution_count": 23,
   "id": "341f6c10",
   "metadata": {},
   "outputs": [
    {
     "data": {
      "text/plain": [
       "(1, 3)"
      ]
     },
     "execution_count": 23,
     "metadata": {},
     "output_type": "execute_result"
    }
   ],
   "source": [
    "import math\n",
    "def solution(n, words):\n",
    "    stack = []\n",
    "    for i in words:\n",
    "        if i in stack:\n",
    "            break\n",
    "        if stack != []:\n",
    "            if i[0] != stack[-1][len(stack[-1])-1]:\n",
    "                break\n",
    "            \n",
    "        stack.append(i)\n",
    "    if len(words) == len(stack):\n",
    "        return (0,0)\n",
    "    else:\n",
    "         a = math.ceil((len(stack) + 1) /n)\n",
    "         b = (len(stack)+1) %n\n",
    "         if b == 0:\n",
    "                b = n\n",
    "        \n",
    "    return (b,a)\n",
    "\n",
    "solution(2,[\"hello\", \"one\", \"even\", \"never\", \"now\", \"world\", \"draw\"])"
   ]
  },
  {
   "cell_type": "code",
   "execution_count": null,
   "id": "885e923c",
   "metadata": {},
   "outputs": [],
   "source": []
  }
 ],
 "metadata": {
  "kernelspec": {
   "display_name": "Python 3 (ipykernel)",
   "language": "python",
   "name": "python3"
  },
  "language_info": {
   "codemirror_mode": {
    "name": "ipython",
    "version": 3
   },
   "file_extension": ".py",
   "mimetype": "text/x-python",
   "name": "python",
   "nbconvert_exporter": "python",
   "pygments_lexer": "ipython3",
   "version": "3.9.7"
  }
 },
 "nbformat": 4,
 "nbformat_minor": 5
}
