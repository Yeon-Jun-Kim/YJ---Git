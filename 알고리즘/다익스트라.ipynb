{
 "cells": [
  {
   "cell_type": "code",
   "execution_count": 43,
   "id": "32860959",
   "metadata": {},
   "outputs": [
    {
     "data": {
      "text/plain": [
       "4"
      ]
     },
     "execution_count": 43,
     "metadata": {},
     "output_type": "execute_result"
    }
   ],
   "source": [
    "import heapq\n",
    "def solution(N, road, K):\n",
    "    road.sort(key = lambda x : x[2], reverse = True)\n",
    "    graph = {}\n",
    "    for i in range(1,N+1):\n",
    "        graph[i] = {}\n",
    "    for i in road:\n",
    "        graph[i[0]][i[1]] = i[2]\n",
    "        graph[i[1]][i[0]] = i[2]\n",
    "\n",
    "\n",
    "    def dij(graph, start):\n",
    "        distances = {node : float('inf') for node in graph}\n",
    "        distances[start] = 0\n",
    "        queue = []\n",
    "        heapq.heappush(queue,[distances[start],start])\n",
    "        while queue:\n",
    "            current_distance, current_destination = heapq.heappop(queue)\n",
    "            if distances[current_destination] < current_distance:\n",
    "                continue\n",
    "            for new_destination, new_distance in graph[current_destination].items():\n",
    "                distance = current_distance + new_distance\n",
    "                if distance < distances[new_destination]:\n",
    "                    distances[new_destination] = distance\n",
    "                    heapq.heappush(queue, [distance, new_destination])\n",
    "        stack = []\n",
    "        for i in distances:\n",
    "            if distances[i] <= K:\n",
    "                stack.append(i)\n",
    "        return stack\n",
    "                \n",
    "        \n",
    "    return len(dij(graph,1))\n",
    "    \n",
    "solution(6,[[1,2,1],[1,3,2],[2,3,2],[3,4,3],[3,5,2],[3,5,3],[5,6,1]],4)"
   ]
  },
  {
   "cell_type": "code",
   "execution_count": null,
   "id": "75e15159",
   "metadata": {},
   "outputs": [],
   "source": []
  }
 ],
 "metadata": {
  "kernelspec": {
   "display_name": "Python 3 (ipykernel)",
   "language": "python",
   "name": "python3"
  },
  "language_info": {
   "codemirror_mode": {
    "name": "ipython",
    "version": 3
   },
   "file_extension": ".py",
   "mimetype": "text/x-python",
   "name": "python",
   "nbconvert_exporter": "python",
   "pygments_lexer": "ipython3",
   "version": "3.9.7"
  }
 },
 "nbformat": 4,
 "nbformat_minor": 5
}
