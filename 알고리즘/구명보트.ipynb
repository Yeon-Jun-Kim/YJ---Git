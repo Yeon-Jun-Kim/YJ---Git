{
 "cells": [
  {
   "cell_type": "code",
   "execution_count": 1,
   "id": "8e68fa5d",
   "metadata": {},
   "outputs": [
    {
     "data": {
      "text/plain": [
       "3"
      ]
     },
     "execution_count": 1,
     "metadata": {},
     "output_type": "execute_result"
    }
   ],
   "source": [
    "def solution(people, limit):\n",
    "    people.sort(reverse = True)\n",
    "    people_2 = list(reversed(people))\n",
    "    boat = 0\n",
    "    index = range(len(people))\n",
    "    for i in people[:]:\n",
    "        if len(people) == 0:\n",
    "            break\n",
    "        if len(people) == 1:\n",
    "            boat = boat + 1\n",
    "            break\n",
    "        if i + people_2[0] > limit:\n",
    "            people.remove(i)\n",
    "            boat = boat + 1\n",
    "        if i + people_2[0] <= limit:\n",
    "            people.remove(people_2[0])\n",
    "            people.remove(i)\n",
    "            people_2.remove(people_2[0])\n",
    "            boat = boat + 1\n",
    "         \n",
    "    return boat\n",
    "solution([70,80,50],100)"
   ]
  },
  {
   "cell_type": "markdown",
   "id": "bb39f1f7",
   "metadata": {},
   "source": [
    "# https://programmers.co.kr/learn/courses/30/lessons/42885"
   ]
  }
 ],
 "metadata": {
  "kernelspec": {
   "display_name": "Python 3 (ipykernel)",
   "language": "python",
   "name": "python3"
  },
  "language_info": {
   "codemirror_mode": {
    "name": "ipython",
    "version": 3
   },
   "file_extension": ".py",
   "mimetype": "text/x-python",
   "name": "python",
   "nbconvert_exporter": "python",
   "pygments_lexer": "ipython3",
   "version": "3.9.7"
  }
 },
 "nbformat": 4,
 "nbformat_minor": 5
}
