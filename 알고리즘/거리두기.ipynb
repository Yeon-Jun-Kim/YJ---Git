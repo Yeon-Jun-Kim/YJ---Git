{
 "cells": [
  {
   "cell_type": "code",
   "execution_count": 30,
   "id": "a1701120",
   "metadata": {},
   "outputs": [
    {
     "data": {
      "text/plain": [
       "[1, 0, 1, 1, 1]"
      ]
     },
     "execution_count": 30,
     "metadata": {},
     "output_type": "execute_result"
    }
   ],
   "source": [
    "def solution(places):\n",
    "    answer = []\n",
    "    for i in range(len(places)):\n",
    "        answer.append(1)\n",
    "    \n",
    "    for i in range(len(places)):\n",
    "        n = len(places[i]) # y축\n",
    "        m = len(places[i][0]) # x축\n",
    "        dx = [1,-1,0,0]\n",
    "        dy = [0,0,1,-1]\n",
    "        for j in range(n):\n",
    "            for k in range(m):\n",
    "                stack = []\n",
    "                visit = []\n",
    "                if places[i][j][k] == 'P':\n",
    "                    stack.append([j,k,0])\n",
    "                    while stack:\n",
    "                        node = stack.pop()\n",
    "                        if node not in visit and node[2] < 3:\n",
    "                            visit.append(node)\n",
    "                            for t in range(4):\n",
    "                                xx = dx[t] + node[0] # y축\n",
    "                                yy = dy[t] + node[1] # x축\n",
    "                                if 0<=xx<5 and 0<=yy<5 and [xx,yy] not in visit and places[i][xx][yy] != 'X':\n",
    "                                    stack.append([xx,yy,node[2] +1])\n",
    "                    c = 0\n",
    "                    for u in visit:\n",
    "                        if places[i][u[0]][u[1]] == 'P':\n",
    "                            c += 1\n",
    "                    if c >2:\n",
    "                        answer[i] = 0\n",
    "                                    \n",
    "                            \n",
    "                    \n",
    "                \n",
    "    return answer"
   ]
  },
  {
   "cell_type": "code",
   "execution_count": null,
   "id": "54551e0a",
   "metadata": {},
   "outputs": [],
   "source": []
  }
 ],
 "metadata": {
  "kernelspec": {
   "display_name": "Python 3 (ipykernel)",
   "language": "python",
   "name": "python3"
  },
  "language_info": {
   "codemirror_mode": {
    "name": "ipython",
    "version": 3
   },
   "file_extension": ".py",
   "mimetype": "text/x-python",
   "name": "python",
   "nbconvert_exporter": "python",
   "pygments_lexer": "ipython3",
   "version": "3.9.7"
  }
 },
 "nbformat": 4,
 "nbformat_minor": 5
}
