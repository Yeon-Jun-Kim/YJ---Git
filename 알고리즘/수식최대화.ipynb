{
 "cells": [
  {
   "cell_type": "code",
   "execution_count": 154,
   "id": "443f6c92",
   "metadata": {},
   "outputs": [
    {
     "data": {
      "text/plain": [
       "[22000, 60420, 18000, 20020, 60420, 60380]"
      ]
     },
     "execution_count": 154,
     "metadata": {},
     "output_type": "execute_result"
    }
   ],
   "source": [
    "from itertools import permutations\n",
    "import copy\n",
    "def solution(expression):\n",
    "    df = []\n",
    "    expression = expression + 'e'\n",
    "    answer = []\n",
    "    stack = ['+','-','*']\n",
    "    stack = list(permutations(stack,3))\n",
    "    temp = ''\n",
    "    for i in expression:\n",
    "        if i != '-' and i != '+' and i != '*' and i != 'e':\n",
    "            temp += i\n",
    "        else:\n",
    "            answer.append(temp)\n",
    "            temp = ''\n",
    "            if i != 'e':\n",
    "                answer.append(i)\n",
    "    tem = copy.deepcopy(answer)\n",
    "    for i in stack:\n",
    "        answer = tem\n",
    "        for j in i:\n",
    "            while j in answer:\n",
    "                idx = answer.index(j)\n",
    "                answer = answer[:idx-1] + [str(eval(\"\".join(answer[idx-1:idx+2])))] + answer[idx+2:]\n",
    "        df.append(abs(int(answer[0])))                      \n",
    "    return df\n",
    "solution(\"100-200*300-500+20\")"
   ]
  },
  {
   "cell_type": "code",
   "execution_count": null,
   "id": "03172719",
   "metadata": {},
   "outputs": [],
   "source": []
  }
 ],
 "metadata": {
  "kernelspec": {
   "display_name": "Python 3 (ipykernel)",
   "language": "python",
   "name": "python3"
  },
  "language_info": {
   "codemirror_mode": {
    "name": "ipython",
    "version": 3
   },
   "file_extension": ".py",
   "mimetype": "text/x-python",
   "name": "python",
   "nbconvert_exporter": "python",
   "pygments_lexer": "ipython3",
   "version": "3.9.7"
  }
 },
 "nbformat": 4,
 "nbformat_minor": 5
}
