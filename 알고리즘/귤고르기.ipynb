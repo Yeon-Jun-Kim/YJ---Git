{
 "cells": [
  {
   "cell_type": "code",
   "execution_count": 39,
   "id": "6e6d9486",
   "metadata": {},
   "outputs": [
    {
     "name": "stdout",
     "output_type": "stream",
     "text": [
      "[1, 2, 2, 3, 3, 4, 5, 5]\n"
     ]
    },
    {
     "data": {
      "text/plain": [
       "3"
      ]
     },
     "execution_count": 39,
     "metadata": {},
     "output_type": "execute_result"
    }
   ],
   "source": [
    "from bisect import bisect_left, bisect_right\n",
    "def solution(k, tangerine):\n",
    "    dic = dict()\n",
    "    tangerine.sort()\n",
    "    count = 0\n",
    "    c = 0\n",
    "    for i in tangerine:\n",
    "        dic[i] = 0\n",
    "    for i in dic:\n",
    "        dic[i] = bisect_right(tangerine,i) - bisect_left(tangerine,i)\n",
    "        \n",
    "    \n",
    "\n",
    "    stack = sorted(dic.items(), key = lambda x : x[1] , reverse = True)\n",
    "    for i in stack:\n",
    "        c += i[1]\n",
    "        count += 1\n",
    "        if c >= k:\n",
    "            break\n",
    "    return count\n",
    "\n",
    "solution(6, [1, 3, 2, 5, 4, 5, 2, 3])"
   ]
  },
  {
   "cell_type": "code",
   "execution_count": null,
   "id": "cb540593",
   "metadata": {},
   "outputs": [],
   "source": []
  }
 ],
 "metadata": {
  "kernelspec": {
   "display_name": "Python 3 (ipykernel)",
   "language": "python",
   "name": "python3"
  },
  "language_info": {
   "codemirror_mode": {
    "name": "ipython",
    "version": 3
   },
   "file_extension": ".py",
   "mimetype": "text/x-python",
   "name": "python",
   "nbconvert_exporter": "python",
   "pygments_lexer": "ipython3",
   "version": "3.9.7"
  }
 },
 "nbformat": 4,
 "nbformat_minor": 5
}
