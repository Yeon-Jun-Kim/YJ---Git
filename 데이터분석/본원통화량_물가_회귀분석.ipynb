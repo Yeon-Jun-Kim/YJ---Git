{
  "cells": [
    {
      "cell_type": "markdown",
      "metadata": {
        "id": "view-in-github",
        "colab_type": "text"
      },
      "source": [
        "<a href=\"https://colab.research.google.com/github/Yeon-Jun-Kim/YJ---Git/blob/main/%EB%B3%B8%EC%9B%90%ED%86%B5%ED%99%94%EB%9F%89_%EB%AC%BC%EA%B0%80_%ED%9A%8C%EA%B7%80%EB%B6%84%EC%84%9D.ipynb\" target=\"_parent\"><img src=\"https://colab.research.google.com/assets/colab-badge.svg\" alt=\"Open In Colab\"/></a>"
      ]
    },
    {
      "cell_type": "markdown",
      "metadata": {
        "id": "1jhxHOMaCOne"
      },
      "source": [
        "- data set: 2021.1.4~2021.4.6일\n",
        "- 장단기금리차 확대(경기회복 변수)가 s&p500 주가를 올리는가?"
      ]
    },
    {
      "cell_type": "code",
      "source": [
        "import numpy as np\n",
        "import pandas as pd\n",
        "import tensorflow as tf\n",
        "import matplotlib.pyplot as plt\n",
        "from mpl_toolkits import mplot3d\n",
        "print(np.__version__)\n",
        "print(pd.__version__)\n",
        "print(tf.__version__)"
      ],
      "metadata": {
        "colab": {
          "base_uri": "https://localhost:8080/"
        },
        "id": "ONhNJIzsDDjk",
        "outputId": "a6c5cd8b-25cd-4439-ad80-1df837a98c8d"
      },
      "execution_count": 19,
      "outputs": [
        {
          "output_type": "stream",
          "name": "stdout",
          "text": [
            "1.21.6\n",
            "1.3.5\n",
            "2.8.2\n"
          ]
        }
      ]
    },
    {
      "cell_type": "code",
      "execution_count": 20,
      "metadata": {
        "colab": {
          "resources": {
            "http://localhost:8080/nbextensions/google.colab/files.js": {
              "data": "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",
              "ok": true,
              "headers": [
                [
                  "content-type",
                  "application/javascript"
                ]
              ],
              "status": 200,
              "status_text": ""
            }
          },
          "base_uri": "https://localhost:8080/",
          "height": 75
        },
        "id": "ryfTGk52COnm",
        "outputId": "37a04048-0ea9-4970-aec1-4a91806375ca"
      },
      "outputs": [
        {
          "output_type": "display_data",
          "data": {
            "text/plain": [
              "<IPython.core.display.HTML object>"
            ],
            "text/html": [
              "\n",
              "     <input type=\"file\" id=\"files-d27633a6-d1a9-46a7-97d3-627352b4f344\" name=\"files[]\" multiple disabled\n",
              "        style=\"border:none\" />\n",
              "     <output id=\"result-d27633a6-d1a9-46a7-97d3-627352b4f344\">\n",
              "      Upload widget is only available when the cell has been executed in the\n",
              "      current browser session. Please rerun this cell to enable.\n",
              "      </output>\n",
              "      <script src=\"/nbextensions/google.colab/files.js\"></script> "
            ]
          },
          "metadata": {}
        },
        {
          "output_type": "stream",
          "name": "stdout",
          "text": [
            "Saving ECOS_TABLE_20220403_172045.xlsx to ECOS_TABLE_20220403_172045 (2).xlsx\n"
          ]
        }
      ],
      "source": [
        "from google.colab import files\n",
        "uploaded = files.upload()\n",
        "#data = 'lab01_spx+usyc2y10.xlsx'"
      ]
    },
    {
      "cell_type": "code",
      "source": [
        "df = pd.read_excel('ECOS_TABLE_20220403_172045.xlsx', sheet_name='Sheet2') # with header\n",
        "df.head()"
      ],
      "metadata": {
        "colab": {
          "base_uri": "https://localhost:8080/",
          "height": 206
        },
        "id": "Ip1BFe0eDdou",
        "outputId": "7898863d-8d5d-4d95-e6b8-247a61bbdb11"
      },
      "execution_count": 21,
      "outputs": [
        {
          "output_type": "execute_result",
          "data": {
            "text/plain": [
              "   consump   central  consump_2  central_2\n",
              "0    99.94  193354.2   4.604570  12.172279\n",
              "1    99.50  203261.7   4.600158  12.222250\n",
              "2    99.44  208003.2   4.599554  12.245309\n",
              "3    99.71  217045.2   4.602266  12.287861\n",
              "4    99.63  214282.2   4.601463  12.275049"
            ],
            "text/html": [
              "\n",
              "  <div id=\"df-6167de74-7272-4f28-8e4e-d0499c934e42\">\n",
              "    <div class=\"colab-df-container\">\n",
              "      <div>\n",
              "<style scoped>\n",
              "    .dataframe tbody tr th:only-of-type {\n",
              "        vertical-align: middle;\n",
              "    }\n",
              "\n",
              "    .dataframe tbody tr th {\n",
              "        vertical-align: top;\n",
              "    }\n",
              "\n",
              "    .dataframe thead th {\n",
              "        text-align: right;\n",
              "    }\n",
              "</style>\n",
              "<table border=\"1\" class=\"dataframe\">\n",
              "  <thead>\n",
              "    <tr style=\"text-align: right;\">\n",
              "      <th></th>\n",
              "      <th>consump</th>\n",
              "      <th>central</th>\n",
              "      <th>consump_2</th>\n",
              "      <th>central_2</th>\n",
              "    </tr>\n",
              "  </thead>\n",
              "  <tbody>\n",
              "    <tr>\n",
              "      <th>0</th>\n",
              "      <td>99.94</td>\n",
              "      <td>193354.2</td>\n",
              "      <td>4.604570</td>\n",
              "      <td>12.172279</td>\n",
              "    </tr>\n",
              "    <tr>\n",
              "      <th>1</th>\n",
              "      <td>99.50</td>\n",
              "      <td>203261.7</td>\n",
              "      <td>4.600158</td>\n",
              "      <td>12.222250</td>\n",
              "    </tr>\n",
              "    <tr>\n",
              "      <th>2</th>\n",
              "      <td>99.44</td>\n",
              "      <td>208003.2</td>\n",
              "      <td>4.599554</td>\n",
              "      <td>12.245309</td>\n",
              "    </tr>\n",
              "    <tr>\n",
              "      <th>3</th>\n",
              "      <td>99.71</td>\n",
              "      <td>217045.2</td>\n",
              "      <td>4.602266</td>\n",
              "      <td>12.287861</td>\n",
              "    </tr>\n",
              "    <tr>\n",
              "      <th>4</th>\n",
              "      <td>99.63</td>\n",
              "      <td>214282.2</td>\n",
              "      <td>4.601463</td>\n",
              "      <td>12.275049</td>\n",
              "    </tr>\n",
              "  </tbody>\n",
              "</table>\n",
              "</div>\n",
              "      <button class=\"colab-df-convert\" onclick=\"convertToInteractive('df-6167de74-7272-4f28-8e4e-d0499c934e42')\"\n",
              "              title=\"Convert this dataframe to an interactive table.\"\n",
              "              style=\"display:none;\">\n",
              "        \n",
              "  <svg xmlns=\"http://www.w3.org/2000/svg\" height=\"24px\"viewBox=\"0 0 24 24\"\n",
              "       width=\"24px\">\n",
              "    <path d=\"M0 0h24v24H0V0z\" fill=\"none\"/>\n",
              "    <path d=\"M18.56 5.44l.94 2.06.94-2.06 2.06-.94-2.06-.94-.94-2.06-.94 2.06-2.06.94zm-11 1L8.5 8.5l.94-2.06 2.06-.94-2.06-.94L8.5 2.5l-.94 2.06-2.06.94zm10 10l.94 2.06.94-2.06 2.06-.94-2.06-.94-.94-2.06-.94 2.06-2.06.94z\"/><path d=\"M17.41 7.96l-1.37-1.37c-.4-.4-.92-.59-1.43-.59-.52 0-1.04.2-1.43.59L10.3 9.45l-7.72 7.72c-.78.78-.78 2.05 0 2.83L4 21.41c.39.39.9.59 1.41.59.51 0 1.02-.2 1.41-.59l7.78-7.78 2.81-2.81c.8-.78.8-2.07 0-2.86zM5.41 20L4 18.59l7.72-7.72 1.47 1.35L5.41 20z\"/>\n",
              "  </svg>\n",
              "      </button>\n",
              "      \n",
              "  <style>\n",
              "    .colab-df-container {\n",
              "      display:flex;\n",
              "      flex-wrap:wrap;\n",
              "      gap: 12px;\n",
              "    }\n",
              "\n",
              "    .colab-df-convert {\n",
              "      background-color: #E8F0FE;\n",
              "      border: none;\n",
              "      border-radius: 50%;\n",
              "      cursor: pointer;\n",
              "      display: none;\n",
              "      fill: #1967D2;\n",
              "      height: 32px;\n",
              "      padding: 0 0 0 0;\n",
              "      width: 32px;\n",
              "    }\n",
              "\n",
              "    .colab-df-convert:hover {\n",
              "      background-color: #E2EBFA;\n",
              "      box-shadow: 0px 1px 2px rgba(60, 64, 67, 0.3), 0px 1px 3px 1px rgba(60, 64, 67, 0.15);\n",
              "      fill: #174EA6;\n",
              "    }\n",
              "\n",
              "    [theme=dark] .colab-df-convert {\n",
              "      background-color: #3B4455;\n",
              "      fill: #D2E3FC;\n",
              "    }\n",
              "\n",
              "    [theme=dark] .colab-df-convert:hover {\n",
              "      background-color: #434B5C;\n",
              "      box-shadow: 0px 1px 3px 1px rgba(0, 0, 0, 0.15);\n",
              "      filter: drop-shadow(0px 1px 2px rgba(0, 0, 0, 0.3));\n",
              "      fill: #FFFFFF;\n",
              "    }\n",
              "  </style>\n",
              "\n",
              "      <script>\n",
              "        const buttonEl =\n",
              "          document.querySelector('#df-6167de74-7272-4f28-8e4e-d0499c934e42 button.colab-df-convert');\n",
              "        buttonEl.style.display =\n",
              "          google.colab.kernel.accessAllowed ? 'block' : 'none';\n",
              "\n",
              "        async function convertToInteractive(key) {\n",
              "          const element = document.querySelector('#df-6167de74-7272-4f28-8e4e-d0499c934e42');\n",
              "          const dataTable =\n",
              "            await google.colab.kernel.invokeFunction('convertToInteractive',\n",
              "                                                     [key], {});\n",
              "          if (!dataTable) return;\n",
              "\n",
              "          const docLinkHtml = 'Like what you see? Visit the ' +\n",
              "            '<a target=\"_blank\" href=https://colab.research.google.com/notebooks/data_table.ipynb>data table notebook</a>'\n",
              "            + ' to learn more about interactive tables.';\n",
              "          element.innerHTML = '';\n",
              "          dataTable['output_type'] = 'display_data';\n",
              "          await google.colab.output.renderOutput(dataTable, element);\n",
              "          const docLink = document.createElement('div');\n",
              "          docLink.innerHTML = docLinkHtml;\n",
              "          element.appendChild(docLink);\n",
              "        }\n",
              "      </script>\n",
              "    </div>\n",
              "  </div>\n",
              "  "
            ]
          },
          "metadata": {},
          "execution_count": 21
        }
      ]
    },
    {
      "cell_type": "markdown",
      "metadata": {
        "id": "K8-w-5i3COnq"
      },
      "source": [
        "### 미 장단기 금리차 vs 주가"
      ]
    },
    {
      "cell_type": "code",
      "execution_count": 22,
      "metadata": {
        "colab": {
          "base_uri": "https://localhost:8080/",
          "height": 297
        },
        "id": "Q4jl2EcjCOnr",
        "outputId": "c88ebade-f96e-4e2a-8d5d-4c4f9f41e7e2"
      },
      "outputs": [
        {
          "output_type": "stream",
          "name": "stdout",
          "text": [
            "(23,) (23,)\n"
          ]
        },
        {
          "output_type": "display_data",
          "data": {
            "text/plain": [
              "<Figure size 432x288 with 1 Axes>"
            ],
            "image/png": "[encoded data removed]"
          },
          "metadata": {
            "needs_background": "light"
          }
        }
      ],
      "source": [
        "# data\n",
        "y_data = df['consump_2']\n",
        "x_data = df['central_2']\n",
        "print(x_data.shape, y_data.shape)\n",
        "\n",
        "plt.plot(x_data, y_data,'o')\n",
        "plt.xlabel('central')\n",
        "plt.ylabel('consump')\n",
        "plt.show()"
      ]
    },
    {
      "cell_type": "code",
      "execution_count": 23,
      "metadata": {
        "id": "RnpgmlR0COns"
      },
      "outputs": [],
      "source": [
        "# data\n",
        "y_data = y_data.values\n",
        "x_data = x_data.values"
      ]
    },
    {
      "cell_type": "code",
      "execution_count": 24,
      "metadata": {
        "colab": {
          "base_uri": "https://localhost:8080/"
        },
        "id": "M7soQW8zCOnt",
        "outputId": "01c36438-166d-4984-a048-af5335dd1743"
      },
      "outputs": [
        {
          "output_type": "stream",
          "name": "stdout",
          "text": [
            "step: 0, loss: 109.254066, W: 1.066219, b: 1.916618\n",
            "step: 20, loss: 31.454575, W: 0.676193, b: 1.885008\n",
            "step: 40, loss: 9.055886, W: 0.466919, b: 1.868048\n",
            "step: 60, loss: 2.607254, W: 0.354629, b: 1.858948\n",
            "step: 80, loss: 0.750674, W: 0.294379, b: 1.854065\n",
            "step: 100, loss: 0.216160, W: 0.262050, b: 1.851445\n",
            "step: 120, loss: 0.062272, W: 0.244704, b: 1.850039\n",
            "step: 140, loss: 0.017968, W: 0.235396, b: 1.849285\n",
            "step: 160, loss: 0.005212, W: 0.230402, b: 1.848881\n",
            "step: 180, loss: 0.001540, W: 0.227723, b: 1.848663\n",
            "step: 200, loss: 0.000482, W: 0.226285, b: 1.848547\n",
            "step: 220, loss: 0.000178, W: 0.225513, b: 1.848484\n",
            "step: 240, loss: 0.000090, W: 0.225099, b: 1.848451\n",
            "step: 260, loss: 0.000065, W: 0.224877, b: 1.848433\n",
            "step: 280, loss: 0.000058, W: 0.224758, b: 1.848423\n",
            "step: 300, loss: 0.000056, W: 0.224694, b: 1.848418\n",
            "step: 320, loss: 0.000055, W: 0.224660, b: 1.848415\n",
            "step: 340, loss: 0.000055, W: 0.224641, b: 1.848413\n",
            "step: 360, loss: 0.000055, W: 0.224632, b: 1.848413\n",
            "step: 380, loss: 0.000055, W: 0.224626, b: 1.848413\n",
            "step: 400, loss: 0.000055, W: 0.224623, b: 1.848413\n",
            "step: 420, loss: 0.000055, W: 0.224622, b: 1.848413\n",
            "step: 440, loss: 0.000055, W: 0.224621, b: 1.848413\n",
            "step: 460, loss: 0.000055, W: 0.224621, b: 1.848413\n",
            "step: 480, loss: 0.000055, W: 0.224620, b: 1.848413\n",
            "step: 500, loss: 0.000055, W: 0.224620, b: 1.848413\n",
            "step: 520, loss: 0.000055, W: 0.224620, b: 1.848413\n",
            "step: 540, loss: 0.000055, W: 0.224620, b: 1.848413\n",
            "step: 560, loss: 0.000055, W: 0.224620, b: 1.848413\n",
            "step: 580, loss: 0.000055, W: 0.224620, b: 1.848413\n",
            "step: 600, loss: 0.000055, W: 0.224620, b: 1.848413\n",
            "step: 620, loss: 0.000055, W: 0.224620, b: 1.848413\n",
            "step: 640, loss: 0.000055, W: 0.224620, b: 1.848413\n",
            "step: 660, loss: 0.000055, W: 0.224620, b: 1.848413\n",
            "step: 680, loss: 0.000055, W: 0.224620, b: 1.848413\n",
            "step: 700, loss: 0.000055, W: 0.224620, b: 1.848413\n",
            "step: 720, loss: 0.000055, W: 0.224620, b: 1.848413\n",
            "step: 740, loss: 0.000055, W: 0.224620, b: 1.848413\n",
            "step: 760, loss: 0.000055, W: 0.224620, b: 1.848413\n",
            "step: 780, loss: 0.000055, W: 0.224620, b: 1.848413\n",
            "step: 800, loss: 0.000055, W: 0.224620, b: 1.848413\n",
            "step: 820, loss: 0.000055, W: 0.224620, b: 1.848413\n",
            "step: 840, loss: 0.000055, W: 0.224620, b: 1.848413\n",
            "step: 860, loss: 0.000055, W: 0.224620, b: 1.848413\n",
            "step: 880, loss: 0.000055, W: 0.224620, b: 1.848413\n",
            "step: 900, loss: 0.000055, W: 0.224620, b: 1.848413\n",
            "step: 920, loss: 0.000055, W: 0.224620, b: 1.848413\n",
            "step: 940, loss: 0.000055, W: 0.224620, b: 1.848413\n",
            "step: 960, loss: 0.000055, W: 0.224620, b: 1.848413\n",
            "step: 980, loss: 0.000055, W: 0.224620, b: 1.848413\n",
            "y = [0.22462024]x + [1.8484135]\n"
          ]
        }
      ],
      "source": [
        "# initial values\n",
        "W = tf.Variable(tf.random.normal([1], mean=2.0), name='weight')\n",
        "b = tf.Variable(tf.random.normal([1], mean=3.0), name='bias')\n",
        "\n",
        "# hypothesis\n",
        "def hypothesis(x):\n",
        "    return W * x + b\n",
        "\n",
        "# cost function\n",
        "def cost(y_pred, y_true):\n",
        "    return tf.reduce_mean(tf.square(y_pred - y_true))\n",
        "\n",
        "\n",
        "# train\n",
        "optimizer = tf.optimizers.SGD(learning_rate=0.0001)\n",
        "loss_record = []\n",
        "def train(X,Y):\n",
        "    with tf.GradientTape() as g:\n",
        "        pred = hypothesis(X) # make prediction\n",
        "        loss = cost(pred, Y) # calculate loss,  #print('loss=', loss.numpy())\n",
        "        loss_record.append(loss.numpy())\n",
        "    \n",
        "    # calculate gradients\n",
        "    gradients = g.gradient(loss, [W,b]) # dloss/dW, dloss/db\n",
        "    optimizer.apply_gradients(zip(gradients, [W,b])) # W : W - a*dcost/dW\n",
        "\n",
        "for step in range(1000):\n",
        "    train(x_data, y_data)\n",
        "    \n",
        "    if step % 20 == 0:\n",
        "        pred = hypothesis(x_data)  \n",
        "        loss = cost(pred, y_data) \n",
        "        print(\"step: %i, loss: %f, W: %f, b: %f\" % (step, loss.numpy(), W.numpy(), b.numpy()))\n",
        "        \n",
        "print(f'y = {W.numpy()}x + {b.numpy()}')"
      ]
    },
    {
      "cell_type": "code",
      "execution_count": 25,
      "metadata": {
        "colab": {
          "base_uri": "https://localhost:8080/",
          "height": 300
        },
        "id": "S93hJUUOCOnu",
        "outputId": "e45490bf-3e26-469f-9163-eafb42536b92"
      },
      "outputs": [
        {
          "output_type": "display_data",
          "data": {
            "text/plain": [
              "<Figure size 864x288 with 2 Axes>"
            ],
            "image/png": "[encoded data removed]"
          },
          "metadata": {
            "needs_background": "light"
          }
        }
      ],
      "source": [
        "# draw loss\n",
        "plt.figure(figsize = (12,4))\n",
        "plt.subplot(121)\n",
        "plt.plot(loss_record)\n",
        "plt.xlabel('iteration', fontsize = 15)\n",
        "plt.ylabel('loss', fontsize = 15)\n",
        "#plt.show()\n",
        "\n",
        "# fitting line\n",
        "yhat = hypothesis(x_data)\n",
        "#plt.figure(figsize = (5,3))\n",
        "plt.subplot(122)\n",
        "plt.plot(x_data, y_data, 'o', label = 'data')\n",
        "plt.plot(x_data, yhat, label = 'fitted line')  # np.array(W*x_data+b)\n",
        "plt.title('linear regression')\n",
        "plt.xlabel('x')\n",
        "plt.ylabel('y')\n",
        "plt.legend()\n",
        "plt.show()"
      ]
    },
    {
      "cell_type": "code",
      "execution_count": 26,
      "metadata": {
        "colab": {
          "base_uri": "https://localhost:8080/"
        },
        "id": "c8v5CYDFCOnv",
        "outputId": "05191227-5bb7-4a7f-bc77-3588d03246ab"
      },
      "outputs": [
        {
          "output_type": "stream",
          "name": "stdout",
          "text": [
            "Model: \"sequential_2\"\n",
            "_________________________________________________________________\n",
            " Layer (type)                Output Shape              Param #   \n",
            "=================================================================\n",
            " dense_2 (Dense)             (None, 1)                 2         \n",
            "                                                                 \n",
            "=================================================================\n",
            "Total params: 2\n",
            "Trainable params: 2\n",
            "Non-trainable params: 0\n",
            "_________________________________________________________________\n",
            "\n",
            "Epoch 1/3\n",
            "1/1 [==============================] - 0s 207ms/step - loss: 429.5385\n",
            "Epoch 2/3\n",
            "1/1 [==============================] - 0s 9ms/step - loss: 1831.4415\n",
            "Epoch 3/3\n",
            "1/1 [==============================] - 0s 6ms/step - loss: 7808.8003\n"
          ]
        }
      ],
      "source": [
        "## keras\n",
        "from tensorflow.keras.models import Sequential\n",
        "from tensorflow.keras.layers import Dense\n",
        "\n",
        "model = Sequential()\n",
        "model.add(Dense(units=1, input_dim=1, activation='linear')) # units = output shape, input_dim = input shape\n",
        "#model.add(Dense(units=1, input_shape=(1,), activation='linear')) # units = output shape, input_dim = input shape\n",
        "model.compile(loss = 'mse', optimizer = 'sgd') #metrics = ['accuracy'])\n",
        "model.summary()\n",
        "print()\n",
        "\n",
        "history = model.fit(x_data, y_data, epochs = 3, verbose = 1)"
      ]
    },
    {
      "cell_type": "code",
      "execution_count": 27,
      "metadata": {
        "scrolled": true,
        "colab": {
          "base_uri": "https://localhost:8080/",
          "height": 425
        },
        "id": "R2aicRlsCOnx",
        "outputId": "ab4d3170-4d95-4541-d512-3b48dc5e9944"
      },
      "outputs": [
        {
          "output_type": "stream",
          "name": "stdout",
          "text": [
            "Model: \"sequential_3\"\n",
            "_________________________________________________________________\n",
            " Layer (type)                Output Shape              Param #   \n",
            "=================================================================\n",
            " dense_3 (Dense)             (None, 1)                 2         \n",
            "                                                                 \n",
            "=================================================================\n",
            "Total params: 2\n",
            "Trainable params: 2\n",
            "Non-trainable params: 0\n",
            "_________________________________________________________________\n",
            "\n"
          ]
        },
        {
          "output_type": "display_data",
          "data": {
            "text/plain": [
              "<Figure size 360x216 with 1 Axes>"
            ],
            "image/png": "[encoded data removed]"
          },
          "metadata": {
            "needs_background": "light"
          }
        }
      ],
      "source": [
        "from tensorflow.keras.models import Sequential\n",
        "from tensorflow.keras.layers import Dense\n",
        "from tensorflow.keras.optimizers import SGD \n",
        "\n",
        "model = Sequential()\n",
        "model.add(Dense(units=1, input_dim=1, activation='linear')) # units = output shape, input_dim = input shape\n",
        "model.compile(loss = 'mse', optimizer = SGD(learning_rate=1e-5)) #metrics = ['accuracy'])\n",
        "model.summary()\n",
        "print()\n",
        "\n",
        "history = model.fit(x_data, y_data, epochs = 2001, verbose = 0)\n",
        "\n",
        "plt.figure(figsize=(5,3))\n",
        "plt.plot(history.history['loss'])\n",
        "plt.show()"
      ]
    },
    {
      "cell_type": "code",
      "execution_count": 28,
      "metadata": {
        "colab": {
          "base_uri": "https://localhost:8080/",
          "height": 366
        },
        "id": "AvDsQ5OwCOny",
        "outputId": "6d2764f3-e690-4ea0-8a06-563a62808a57"
      },
      "outputs": [
        {
          "output_type": "stream",
          "name": "stdout",
          "text": [
            "weights = \n",
            " [[0.36661473]]\n",
            "bias = \n",
            " [0.07243406]\n"
          ]
        },
        {
          "output_type": "display_data",
          "data": {
            "text/plain": [
              "<Figure size 360x288 with 1 Axes>"
            ],
            "image/png": "[encoded data removed]"
          },
          "metadata": {
            "needs_background": "light"
          }
        }
      ],
      "source": [
        "w_hat, b_hat = model.get_weights()\n",
        "print(\"weights = \\n\", w_hat)\n",
        "print(\"bias = \\n\", b_hat)\n",
        "\n",
        "# visualization(시각화)\n",
        "xp   = np.linspace(x_data.min(), x_data.max(), x_data.shape[0]).reshape(-1,1) #min,max,개수\n",
        "#yhat = model.predict(xp)\n",
        "yhat = b_hat  + w_hat[0]*xp # + w_hat[1]*xp + w_hat[2]*xp\n",
        "\n",
        "plt.figure(figsize=(5,4))\n",
        "plt.plot(x_data, y_data, 'o', label='data', markeredgecolor='k')\n",
        "plt.plot(xp, yhat, 'b-',        label='fitting line') \n",
        "plt.title('linear regression')\n",
        "plt.xlabel(\"x\")\n",
        "plt.ylabel(\"y\")\n",
        "plt.xticks()\n",
        "plt.legend(loc='best')\n",
        "plt.show()"
      ]
    },
    {
      "cell_type": "code",
      "execution_count": 29,
      "metadata": {
        "colab": {
          "base_uri": "https://localhost:8080/"
        },
        "id": "V4qQuUqcCOny",
        "outputId": "6337446b-21b3-443e-eeae-fabc898f28f4"
      },
      "outputs": [
        {
          "output_type": "stream",
          "name": "stdout",
          "text": [
            "                            OLS Regression Results                            \n",
            "==============================================================================\n",
            "Dep. Variable:                      y   R-squared:                       0.787\n",
            "Model:                            OLS   Adj. R-squared:                  0.777\n",
            "Method:                 Least Squares   F-statistic:                     77.62\n",
            "Date:                Sun, 26 Jun 2022   Prob (F-statistic):           1.70e-08\n",
            "Time:                        13:26:47   Log-Likelihood:                 81.134\n",
            "No. Observations:                  23   AIC:                            -158.3\n",
            "Df Residuals:                      21   BIC:                            -156.0\n",
            "Df Model:                           1                                         \n",
            "Covariance Type:            nonrobust                                         \n",
            "==============================================================================\n",
            "                 coef    std err          t      P>|t|      [0.025      0.975]\n",
            "------------------------------------------------------------------------------\n",
            "const          2.2212      0.272      8.158      0.000       1.655       2.787\n",
            "x1             0.1944      0.022      8.810      0.000       0.149       0.240\n",
            "==============================================================================\n",
            "Omnibus:                        6.664   Durbin-Watson:                   0.671\n",
            "Prob(Omnibus):                  0.036   Jarque-Bera (JB):                4.527\n",
            "Skew:                           1.009   Prob(JB):                        0.104\n",
            "Kurtosis:                       3.806   Cond. No.                     2.18e+03\n",
            "==============================================================================\n",
            "\n",
            "Warnings:\n",
            "[1] Standard Errors assume that the covariance matrix of the errors is correctly specified.\n",
            "[2] The condition number is large, 2.18e+03. This might indicate that there are\n",
            "strong multicollinearity or other numerical problems.\n"
          ]
        }
      ],
      "source": [
        "## statsmodels\n",
        "import statsmodels.api as sm\n",
        "x_data_constant = sm.add_constant(x_data)\n",
        "model = sm.OLS(y_data, x_data_constant).fit()\n",
        "print(model.summary())"
      ]
    },
    {
      "cell_type": "code",
      "execution_count": 30,
      "metadata": {
        "colab": {
          "base_uri": "https://localhost:8080/",
          "height": 279
        },
        "id": "cxRMyYbbCOnz",
        "outputId": "5c9dba5e-1265-48e6-f223-89c1573e7209"
      },
      "outputs": [
        {
          "output_type": "display_data",
          "data": {
            "text/plain": [
              "<Figure size 432x288 with 1 Axes>"
            ],
            "image/png": "[encoded data removed]"
          },
          "metadata": {
            "needs_background": "light"
          }
        }
      ],
      "source": [
        "y_pred = model.predict(x_data_constant).reshape(-1,1)\n",
        "\n",
        "plt.figure(figsize = (6,4))\n",
        "plt.plot(x_data, y_data, 'ko',    label='true values')\n",
        "plt.plot(x_data, y_pred, 'r', label='fiting line')\n",
        "plt.xlabel('X')\n",
        "plt.legend()\n",
        "plt.show()\n"
      ]
    }
  ],
  "metadata": {
    "kernelspec": {
      "display_name": "Python 3",
      "language": "python",
      "name": "python3"
    },
    "language_info": {
      "codemirror_mode": {
        "name": "ipython",
        "version": 3
      },
      "file_extension": ".py",
      "mimetype": "text/x-python",
      "name": "python",
      "nbconvert_exporter": "python",
      "pygments_lexer": "ipython3",
      "version": "3.7.3"
    },
    "colab": {
      "name": "본원통화량 - 물가 회귀분석.ipynb",
      "provenance": [],
      "collapsed_sections": [],
      "include_colab_link": true
    },
    "accelerator": "GPU"
  },
  "nbformat": 4,
  "nbformat_minor": 0
}
