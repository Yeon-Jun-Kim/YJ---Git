{
 "cells": [
  {
   "cell_type": "code",
   "execution_count": 72,
   "id": "bb6b798e",
   "metadata": {},
   "outputs": [
    {
     "name": "stdout",
     "output_type": "stream",
     "text": [
      "0\n",
      "1\n",
      "0\n",
      "1\n",
      "2\n",
      "2\n"
     ]
    },
    {
     "data": {
      "text/plain": [
       "[1, 1, 1, 1, 2, 4]"
      ]
     },
     "execution_count": 72,
     "metadata": {},
     "output_type": "execute_result"
    }
   ],
   "source": [
    "from itertools import combinations\n",
    "from collections import defaultdict\n",
    "from bisect import bisect_left\n",
    "\n",
    "def solution(info, query):\n",
    "    answer = []\n",
    "    temp = []\n",
    "    dic = defaultdict(list) #디폴트 딕셔너리 키가 없어도 기본 값을 가지게 만들 수 있음\n",
    "    for info in info:\n",
    "        info = info.split()\n",
    "        condition = info[:-1]\n",
    "        score = info[-1]\n",
    "        for i in range(5):\n",
    "            case = list(combinations([0,1,2,3],i)) #1,2,3,4의 원소로 0,1,2,3,4 개로 이루어진 조합을 생성\n",
    "            for c in case:\n",
    "                tmp = condition.copy()#condition이 변하지 않게\n",
    "                for idx in c:\n",
    "                    tmp[idx] = \"-\" #조합별로 -를 붙여줌 16개의 경우의수 나옴\n",
    "                key = (\"\").join(tmp)# 쉽게 검색하기 위해 join으로 문자열로 묶어줌\n",
    "                dic[key].append(int(score)) # dic 모든 경우의수 만들어짐\n",
    "    for i in dic:\n",
    "        dic[i].sort() # 이분탐색 위해 모든 value를 정렬\n",
    "    for i in query:\n",
    "        i = i.replace(\"and \", \"\") # and를 제거\n",
    "        i = i.split() #list로 만들어줌\n",
    "        target_key = ''.join(i[:-1])#5번째 요소를 제외한 것들을 key로둠\n",
    "        target_score = int(i[-1])#5번째 요소를 점수로 둠\n",
    "        count = 0\n",
    "        if target_key in dic: #target key가 dic에 존재하면\n",
    "            target_list = dic[target_key] # 그 밸류를 target list로 설정\n",
    "            idx = bisect_left(target_list, target_score) # target list에서 target점수가 나오는 것을 왼쪽부터 첫번째로 찾음\n",
    "            count = len(target_list) - idx # 전체갯수에서 빼줌\n",
    "        answer.append(count)      #answer에 저장\n",
    "    return answer\n",
    "\n",
    "        \n",
    "    \n",
    "    \n",
    "\n",
    "solution([\"java backend junior pizza 150\",\"python frontend senior chicken 210\",\"python frontend senior chicken 150\",\"cpp backend senior pizza 260\",\"java backend junior chicken 80\",\"python backend senior chicken 50\"],[\"java and backend and junior and pizza 100\",\"python and frontend and senior and chicken 200\",\"cpp and - and senior and pizza 250\",\"- and backend and senior and - 150\",\"- and - and - and chicken 100\",\"- and - and - and - 150\"])"
   ]
  },
  {
   "cell_type": "code",
   "execution_count": null,
   "id": "5d6656d6",
   "metadata": {},
   "outputs": [],
   "source": []
  },
  {
   "cell_type": "code",
   "execution_count": null,
   "id": "1d6ff8f1",
   "metadata": {},
   "outputs": [],
   "source": []
  }
 ],
 "metadata": {
  "kernelspec": {
   "display_name": "Python 3 (ipykernel)",
   "language": "python",
   "name": "python3"
  },
  "language_info": {
   "codemirror_mode": {
    "name": "ipython",
    "version": 3
   },
   "file_extension": ".py",
   "mimetype": "text/x-python",
   "name": "python",
   "nbconvert_exporter": "python",
   "pygments_lexer": "ipython3",
   "version": "3.9.7"
  }
 },
 "nbformat": 4,
 "nbformat_minor": 5
}
