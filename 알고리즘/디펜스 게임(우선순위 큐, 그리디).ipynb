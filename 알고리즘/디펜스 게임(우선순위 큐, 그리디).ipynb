{
 "cells": [
  {
   "cell_type": "code",
   "execution_count": 43,
   "id": "24278cec",
   "metadata": {},
   "outputs": [
    {
     "data": {
      "text/plain": [
       "5"
      ]
     },
     "execution_count": 43,
     "metadata": {},
     "output_type": "execute_result"
    }
   ],
   "source": [
    "import heapq\n",
    "def solution(n, k, enemy):\n",
    "    stack = enemy[:k]\n",
    "    c = 0\n",
    "    heapq.heapify(stack)\n",
    "    for i in enemy[k:]:\n",
    "        heapq.heappush(stack,i)\n",
    "        node = heapq.heappop(stack)\n",
    "        n -= node\n",
    "        if n < 0:\n",
    "            break\n",
    "        c += 1\n",
    "    if k > len(enemy):\n",
    "        return k\n",
    "    return c + k\n",
    "    \n",
    "        \n",
    "\n",
    "\n",
    "\n",
    "solution(7,3,[4, 2, 4, 5, 3, 3, 1])"
   ]
  },
  {
   "cell_type": "code",
   "execution_count": null,
   "id": "f67053f1",
   "metadata": {},
   "outputs": [],
   "source": []
  }
 ],
 "metadata": {
  "kernelspec": {
   "display_name": "Python 3 (ipykernel)",
   "language": "python",
   "name": "python3"
  },
  "language_info": {
   "codemirror_mode": {
    "name": "ipython",
    "version": 3
   },
   "file_extension": ".py",
   "mimetype": "text/x-python",
   "name": "python",
   "nbconvert_exporter": "python",
   "pygments_lexer": "ipython3",
   "version": "3.9.7"
  }
 },
 "nbformat": 4,
 "nbformat_minor": 5
}
