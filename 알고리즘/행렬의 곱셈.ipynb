{
 "cells": [
  {
   "cell_type": "code",
   "execution_count": 39,
   "id": "f2c0baa0",
   "metadata": {},
   "outputs": [
    {
     "name": "stdout",
     "output_type": "stream",
     "text": [
      "[[], [], []]\n"
     ]
    },
    {
     "data": {
      "text/plain": [
       "[[22, 22, 11], [36, 28, 18], [29, 20, 14]]"
      ]
     },
     "execution_count": 39,
     "metadata": {},
     "output_type": "execute_result"
    }
   ],
   "source": [
    "def solution(arr1, arr2):\n",
    "    answer = []\n",
    "    for i in arr1:\n",
    "        answer.append([])\n",
    "    print(answer)\n",
    "        \n",
    "    for i in range(len(arr1)):\n",
    "        for k in range(len(arr2[0])):\n",
    "            temp = 0\n",
    "            for j in range(len(arr1[i])):\n",
    "                temp += arr1[i][j] * arr2[j][k]\n",
    "            answer[i].append(temp)\n",
    "    return answer\n",
    "                \n",
    "            \n",
    "\n",
    "            \n",
    "                \n",
    "            \n",
    "            \n",
    "            \n",
    "\n",
    "solution([[2, 3, 2],\n",
    "          [4, 2, 4],\n",
    "          [3, 1, 4]], [[5, 4, 3],\n",
    "                       [2, 4, 1],\n",
    "                       [3, 1, 1]])"
   ]
  },
  {
   "cell_type": "code",
   "execution_count": null,
   "id": "680e0327",
   "metadata": {},
   "outputs": [],
   "source": []
  }
 ],
 "metadata": {
  "kernelspec": {
   "display_name": "Python 3 (ipykernel)",
   "language": "python",
   "name": "python3"
  },
  "language_info": {
   "codemirror_mode": {
    "name": "ipython",
    "version": 3
   },
   "file_extension": ".py",
   "mimetype": "text/x-python",
   "name": "python",
   "nbconvert_exporter": "python",
   "pygments_lexer": "ipython3",
   "version": "3.9.7"
  }
 },
 "nbformat": 4,
 "nbformat_minor": 5
}
