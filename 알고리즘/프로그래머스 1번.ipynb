{
 "cells": [
  {
   "cell_type": "code",
   "execution_count": 76,
   "id": "b080db24",
   "metadata": {},
   "outputs": [
    {
     "data": {
      "text/plain": [
       "'552'"
      ]
     },
     "execution_count": 76,
     "metadata": {},
     "output_type": "execute_result"
    }
   ],
   "source": [
    "import bisect\n",
    "def solution(X, Y):\n",
    "    stack = []\n",
    "    \n",
    "    x = set(X)\n",
    "    x_list = list(X)\n",
    "    x_list.sort()\n",
    "    y = list(Y)\n",
    "    y.sort()\n",
    "    for i in x:\n",
    "        ri = bisect.bisect(y, i)\n",
    "        li = bisect.bisect_left(y, i)\n",
    "        \n",
    "        c = ri - li\n",
    "        ri_2 = bisect.bisect(x_list, i)\n",
    "        li_2 = bisect.bisect_left(x_list, i)\n",
    "        c_2 = ri_2 - li_2\n",
    "        c = min(c,c_2)\n",
    "\n",
    "        for j in range(c):\n",
    "            stack.append(i)\n",
    "    if stack == []:\n",
    "        return '-1'\n",
    "    stack.sort(reverse=True)\n",
    "    if set(stack) == {'0'}:\n",
    "        return '0'\n",
    "    stack = (\"\").join(stack)\n",
    "    return stack\n",
    "    \n",
    "        \n",
    "    \n",
    "    \n",
    "            \n",
    "solution(\"5525\", \"1255\")"
   ]
  },
  {
   "cell_type": "code",
   "execution_count": null,
   "id": "888c4de8",
   "metadata": {},
   "outputs": [],
   "source": []
  }
 ],
 "metadata": {
  "kernelspec": {
   "display_name": "Python 3 (ipykernel)",
   "language": "python",
   "name": "python3"
  },
  "language_info": {
   "codemirror_mode": {
    "name": "ipython",
    "version": 3
   },
   "file_extension": ".py",
   "mimetype": "text/x-python",
   "name": "python",
   "nbconvert_exporter": "python",
   "pygments_lexer": "ipython3",
   "version": "3.9.7"
  }
 },
 "nbformat": 4,
 "nbformat_minor": 5
}
