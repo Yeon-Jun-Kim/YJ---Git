{
 "cells": [
  {
   "cell_type": "code",
   "execution_count": 46,
   "id": "84622f5f",
   "metadata": {},
   "outputs": [
    {
     "data": {
      "text/plain": [
       "'  '"
      ]
     },
     "execution_count": 46,
     "metadata": {},
     "output_type": "execute_result"
    }
   ],
   "source": [
    "def solution(s):\n",
    "    s = s.replace(' ','*')\n",
    "    answer = \"\"\n",
    "    temp = s.split('*')\n",
    " \n",
    "    for i in range(len(temp)):\n",
    "        temp[i] = temp[i].lower()\n",
    "        if temp[i] != \"\":\n",
    "            temp[i] = temp[i][0].upper() + temp[i][1:]\n",
    "\n",
    "    for i in temp:\n",
    "        answer += i + \" \"\n",
    "    answer = list(answer)\n",
    "    del answer[-1]\n",
    "    return (\"\").join(answer)\n",
    "        \n",
    "        \n",
    "    \n",
    "\n",
    "solution(\"  \")"
   ]
  },
  {
   "cell_type": "code",
   "execution_count": null,
   "id": "c95cefb6",
   "metadata": {},
   "outputs": [],
   "source": []
  },
  {
   "cell_type": "code",
   "execution_count": null,
   "id": "0a6ae447",
   "metadata": {},
   "outputs": [],
   "source": []
  }
 ],
 "metadata": {
  "kernelspec": {
   "display_name": "Python 3 (ipykernel)",
   "language": "python",
   "name": "python3"
  },
  "language_info": {
   "codemirror_mode": {
    "name": "ipython",
    "version": 3
   },
   "file_extension": ".py",
   "mimetype": "text/x-python",
   "name": "python",
   "nbconvert_exporter": "python",
   "pygments_lexer": "ipython3",
   "version": "3.9.7"
  }
 },
 "nbformat": 4,
 "nbformat_minor": 5
}
