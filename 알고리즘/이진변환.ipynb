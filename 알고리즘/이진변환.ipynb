{
 "cells": [
  {
   "cell_type": "code",
   "execution_count": 13,
   "id": "16c01b14",
   "metadata": {},
   "outputs": [
    {
     "data": {
      "text/plain": [
       "[3, 8]"
      ]
     },
     "execution_count": 13,
     "metadata": {},
     "output_type": "execute_result"
    }
   ],
   "source": [
    "def solution(s):\n",
    "    count = 0\n",
    "    idx = 0\n",
    "    while s != '1':\n",
    "        while '0' in s:\n",
    "            count += s.count('0')\n",
    "            s = s.replace('0','')\n",
    "            \n",
    "            \n",
    "\n",
    "        s = bin(len(s))[2:]\n",
    "\n",
    "        idx +=1\n",
    "        s = str(s)\n",
    "    return [idx,count]\n",
    "        \n",
    "solution(\"110010101001\")"
   ]
  },
  {
   "cell_type": "code",
   "execution_count": null,
   "id": "db4d8554",
   "metadata": {},
   "outputs": [],
   "source": []
  }
 ],
 "metadata": {
  "kernelspec": {
   "display_name": "Python 3 (ipykernel)",
   "language": "python",
   "name": "python3"
  },
  "language_info": {
   "codemirror_mode": {
    "name": "ipython",
    "version": 3
   },
   "file_extension": ".py",
   "mimetype": "text/x-python",
   "name": "python",
   "nbconvert_exporter": "python",
   "pygments_lexer": "ipython3",
   "version": "3.9.7"
  }
 },
 "nbformat": 4,
 "nbformat_minor": 5
}
