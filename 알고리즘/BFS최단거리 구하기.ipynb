{
 "cells": [
  {
   "cell_type": "markdown",
   "id": "df637043",
   "metadata": {},
   "source": [
    "https://programmers.co.kr/learn/courses/30/lessons/1844"
   ]
  },
  {
   "cell_type": "code",
   "execution_count": 75,
   "id": "4b1e068d",
   "metadata": {},
   "outputs": [
    {
     "name": "stdout",
     "output_type": "stream",
     "text": [
      "[0, 0, 1]\n",
      "[1, 0, 2]\n",
      "[2, 0, 3]\n",
      "[3, 0, 4]\n",
      "[3, 1, 5]\n",
      "[3, 2, 6]\n",
      "[2, 2, 7]\n",
      "[1, 2, 8]\n",
      "[2, 3, 8]\n",
      "[0, 2, 9]\n",
      "[2, 4, 9]\n",
      "[0, 3, 10]\n",
      "[1, 4, 10]\n",
      "[0, 4, 11]\n"
     ]
    },
    {
     "data": {
      "text/plain": [
       "-1"
      ]
     },
     "execution_count": 75,
     "metadata": {},
     "output_type": "execute_result"
    }
   ],
   "source": [
    "from collections import deque\n",
    "import copy\n",
    "def solution(maps):\n",
    "    maps_2 = copy.deepcopy(maps)\n",
    "    n = len(maps) # y축\n",
    "    m = len(maps[0]) # x축\n",
    "    dx = [1,-1,0,0]\n",
    "    dy = [0,0,1,-1]\n",
    "    stack = deque([[0,0,1]])\n",
    "    for i in range(n):\n",
    "        for j in range(m):\n",
    "             maps_2[i][j] = 0\n",
    "    visit = maps_2\n",
    "    visit[0][0] = True\n",
    "             \n",
    "\n",
    "\n",
    "    while stack:\n",
    "        node = stack.popleft()\n",
    "        print(node)\n",
    "        if node[0] == n-1 and node[1] == m -1:\n",
    "            return node[2]\n",
    "        for i in range(4):\n",
    "            xx = dx[i] + node[0] # y축\n",
    "            yy = dy[i] + node[1] # x축\n",
    "            if 0<=xx<n and 0<=yy<m and not visit[xx][yy] and maps[xx][yy] == 1:\n",
    "                visit[xx][yy] = True\n",
    "                stack.append([xx,yy,node[2]+1])\n",
    "                \n",
    "    return -1\n",
    "            \n",
    "            \n",
    "        \n",
    "        \n",
    "               \n",
    "        \n",
    "            \n",
    "            \n",
    "solution([[1,0,1,1,1],[1,0,1,0,1],[1,0,1,1,1],[1,1,1,0,0],[0,0,0,0,1]])"
   ]
  },
  {
   "cell_type": "code",
   "execution_count": null,
   "id": "ab3b9aba",
   "metadata": {},
   "outputs": [],
   "source": []
  },
  {
   "cell_type": "code",
   "execution_count": null,
   "id": "d6849dda",
   "metadata": {},
   "outputs": [],
   "source": []
  }
 ],
 "metadata": {
  "kernelspec": {
   "display_name": "Python 3 (ipykernel)",
   "language": "python",
   "name": "python3"
  },
  "language_info": {
   "codemirror_mode": {
    "name": "ipython",
    "version": 3
   },
   "file_extension": ".py",
   "mimetype": "text/x-python",
   "name": "python",
   "nbconvert_exporter": "python",
   "pygments_lexer": "ipython3",
   "version": "3.9.7"
  }
 },
 "nbformat": 4,
 "nbformat_minor": 5
}
