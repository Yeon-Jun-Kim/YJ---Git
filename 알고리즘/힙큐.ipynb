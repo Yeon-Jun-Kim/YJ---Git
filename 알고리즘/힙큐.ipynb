{
 "cells": [
  {
   "cell_type": "markdown",
   "id": "f77e8e3c",
   "metadata": {},
   "source": [
    "https://programmers.co.kr/learn/courses/30/lessons/42626"
   ]
  },
  {
   "cell_type": "code",
   "execution_count": 6,
   "id": "8c4679f2",
   "metadata": {},
   "outputs": [
    {
     "data": {
      "text/plain": [
       "2"
      ]
     },
     "execution_count": 6,
     "metadata": {},
     "output_type": "execute_result"
    }
   ],
   "source": [
    "import heapq\n",
    "def solution(scoville, K):\n",
    "    heapq.heapify(scoville)\n",
    "    count = 0\n",
    "    while 1:\n",
    "        if scoville[0] >= K:\n",
    "            break\n",
    "        a = heapq.heappop(scoville)\n",
    "        b = heapq.heappop(scoville)\n",
    "        heapq.heappush(scoville, a + 2 * b)\n",
    "        \n",
    "        if len(scoville) <= 1 and not scoville[0] >= K:\n",
    "            return -1\n",
    "        count = count + 1\n",
    "    return count\n",
    "solution([1, 2, 3],11)"
   ]
  }
 ],
 "metadata": {
  "kernelspec": {
   "display_name": "Python 3 (ipykernel)",
   "language": "python",
   "name": "python3"
  },
  "language_info": {
   "codemirror_mode": {
    "name": "ipython",
    "version": 3
   },
   "file_extension": ".py",
   "mimetype": "text/x-python",
   "name": "python",
   "nbconvert_exporter": "python",
   "pygments_lexer": "ipython3",
   "version": "3.9.7"
  }
 },
 "nbformat": 4,
 "nbformat_minor": 5
}
