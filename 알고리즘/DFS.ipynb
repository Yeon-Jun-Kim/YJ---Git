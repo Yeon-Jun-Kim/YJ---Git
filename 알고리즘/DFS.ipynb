{
 "cells": [
  {
   "cell_type": "markdown",
   "id": "47dfe0c6",
   "metadata": {},
   "source": [
    "https://programmers.co.kr/learn/courses/30/lessons/43162\n",
    "        \n",
    "        \n",
    "        \n",
    "        \n",
    "        "
   ]
  },
  {
   "cell_type": "code",
   "execution_count": 1,
   "id": "2980c087",
   "metadata": {},
   "outputs": [
    {
     "data": {
      "text/plain": [
       "3"
      ]
     },
     "execution_count": 1,
     "metadata": {},
     "output_type": "execute_result"
    }
   ],
   "source": [
    "def solution(n, computers):\n",
    "    answer = 0\n",
    "    su = list(range(n))\n",
    "    while su:\n",
    "        visit = []\n",
    "        start = su[0]\n",
    "        stack = [start]\n",
    "        answer += 1\n",
    "        \n",
    "        while stack:\n",
    "            node = stack.pop()\n",
    "            if node not in visit:\n",
    "                visit.append(node)\n",
    "                for i in range(n):\n",
    "                    if computers[node][i] == 1:\n",
    "                        stack.append(i)\n",
    "        for i in visit:\n",
    "            su.remove(i)\n",
    "    \n",
    "    return answer"
   ]
  },
  {
   "cell_type": "markdown",
   "id": "8d7377ed",
   "metadata": {},
   "source": []
  },
  {
   "cell_type": "code",
   "execution_count": null,
   "id": "9fdf13ef",
   "metadata": {},
   "outputs": [],
   "source": []
  }
 ],
 "metadata": {
  "kernelspec": {
   "display_name": "Python 3 (ipykernel)",
   "language": "python",
   "name": "python3"
  },
  "language_info": {
   "codemirror_mode": {
    "name": "ipython",
    "version": 3
   },
   "file_extension": ".py",
   "mimetype": "text/x-python",
   "name": "python",
   "nbconvert_exporter": "python",
   "pygments_lexer": "ipython3",
   "version": "3.9.7"
  }
 },
 "nbformat": 4,
 "nbformat_minor": 5
}
