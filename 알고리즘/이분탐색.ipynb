{
 "cells": [
  {
   "cell_type": "markdown",
   "id": "c681ff3f",
   "metadata": {},
   "source": [
    "https://programmers.co.kr/learn/courses/30/lessons/43238"
   ]
  },
  {
   "cell_type": "code",
   "execution_count": null,
   "id": "440ceddd",
   "metadata": {},
   "outputs": [],
   "source": [
    "def solution(n, times):\n",
    "    start = 1\n",
    "    end = max(times) * n\n",
    "    while start <= end:\n",
    "        mid = (start+end)//2\n",
    "        cnt = 0\n",
    "        for i in times:\n",
    "            cnt += mid//i\n",
    "            if cnt >= n:\n",
    "                end = mid -1\n",
    "                answer = mid\n",
    "        if cnt < n:\n",
    "            start = mid + 1\n",
    "    return answer"
   ]
  }
 ],
 "metadata": {
  "kernelspec": {
   "display_name": "Python 3 (ipykernel)",
   "language": "python",
   "name": "python3"
  },
  "language_info": {
   "codemirror_mode": {
    "name": "ipython",
    "version": 3
   },
   "file_extension": ".py",
   "mimetype": "text/x-python",
   "name": "python",
   "nbconvert_exporter": "python",
   "pygments_lexer": "ipython3",
   "version": "3.9.7"
  }
 },
 "nbformat": 4,
 "nbformat_minor": 5
}
